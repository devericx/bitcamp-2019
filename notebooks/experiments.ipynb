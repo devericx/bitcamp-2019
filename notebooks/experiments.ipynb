{
 "cells": [
  {
   "cell_type": "code",
   "execution_count": 9,
   "metadata": {},
   "outputs": [
    {
     "name": "stdout",
     "output_type": "stream",
     "text": [
      "His card 8 heart\n"
     ]
    },
    {
     "data": {
      "text/plain": [
       "'a playing card in the major suit that has one or more red hearts on it'"
      ]
     },
     "execution_count": 9,
     "metadata": {},
     "output_type": "execute_result"
    }
   ],
   "source": [
    "import nltk\n",
    "from nltk.wsd import lesk\n",
    "from pywsd.similarity import max_similarity,similarity_by_path\n",
    "from pywsd.lesk import simple_lesk, adapted_lesk, cosine_lesk,original_lesk\n",
    "\n",
    "from nltk.tokenize import PunktSentenceTokenizer,sent_tokenize, word_tokenize\n",
    "from nltk.corpus import stopwords, wordnet\n",
    "from nltk.stem import WordNetLemmatizer, PorterStemmer\n",
    "from nltk.corpus import wordnet as wn\n",
    "import string\n",
    "\n",
    "import support.scrape as scrape\n",
    "\n",
    "\n",
    "stop_words = set(stopwords.words('english')) \n",
    "\n",
    "def simpleFilter(sentence):\n",
    "    filtered_sent = []\n",
    "    lemmatizer = WordNetLemmatizer()\n",
    "    stop_words = set(stopwords.words(\"english\"))\n",
    "    words = word_tokenize(sentence)\n",
    "\n",
    "    for w in words:\n",
    "        if w not in stop_words:\n",
    "            filtered_sent.append(lemmatizer.lemmatize(w))\n",
    "\n",
    "    return filtered_sent\n",
    "\n",
    "def listToString(inputSentList):\n",
    "    return ' '.join(inputSentList)\n",
    "\n",
    "def viewAllDefinitions(wordStr):\n",
    "    resList = []\n",
    "    for syn in wn.synsets(wordStr):\n",
    "        resList.append(syn.definition())\n",
    "    return resList\n",
    "\n",
    "def topRelevSent(targetWord):\n",
    "    return\n",
    "\n",
    "def simpleFilter(sentence):\n",
    "    filtered_sent = []\n",
    "    lemmatizer = WordNetLemmatizer()\n",
    "    stop_words = set(stopwords.words(\"english\"))\n",
    "    words = word_tokenize(sentence)\n",
    "\n",
    "    for w in words:\n",
    "        if w not in stop_words:\n",
    "            filtered_sent.append(lemmatizer.lemmatize(w))\n",
    "    return listToString(filtered_sent)\n",
    "\n",
    "def simpleFilterList(sentList):\n",
    "    resList = []\n",
    "    for sent in sentList:\n",
    "        sent = sent.translate(str.maketrans('', '', string.punctuation))\n",
    "        resList.append(simpleFilter(sent))\n",
    "    return resList\n",
    "\n",
    "\n",
    "\n",
    "\n",
    "\n",
    "sent = 'His card was the 8 of hearts'\n",
    "ambiguous = 'heart'\n",
    "\n",
    "sent = simpleFilter(sent)\n",
    "\n",
    "\n",
    "print(sent)\n",
    "cosine_lesk(sent,ambiguous).definition()\n",
    "\n",
    "\n",
    "\n",
    "# original_lesk seems to be better"
   ]
  },
  {
   "cell_type": "code",
   "execution_count": 10,
   "metadata": {},
   "outputs": [
    {
     "data": {
      "text/plain": [
       "['sloping land (especially the slope beside a body of water)',\n",
       " 'a financial institution that accepts deposits and channels the money into lending activities',\n",
       " 'a long ridge or pile',\n",
       " 'an arrangement of similar objects in a row or in tiers',\n",
       " 'a supply or stock held in reserve for future use (especially in emergencies)',\n",
       " 'the funds held by a gambling house or the dealer in some gambling games',\n",
       " 'a slope in the turn of a road or track; the outside is higher than the inside in order to reduce the effects of centrifugal force',\n",
       " 'a container (usually with a slot in the top) for keeping money at home',\n",
       " 'a building in which the business of banking transacted',\n",
       " 'a flight maneuver; aircraft tips laterally about its longitudinal axis (especially in turning)',\n",
       " 'tip laterally',\n",
       " 'enclose with a bank',\n",
       " 'do business with a bank or keep an account at a bank',\n",
       " 'act as the banker in a game or in gambling',\n",
       " 'be in the banking business',\n",
       " 'put into a bank account',\n",
       " 'cover with ashes so to control the rate of burning',\n",
       " 'have confidence or faith in']"
      ]
     },
     "execution_count": 10,
     "metadata": {},
     "output_type": "execute_result"
    }
   ],
   "source": [
    "\n",
    "        \n",
    "viewAllDefinitions('bank')     \n"
   ]
  },
  {
   "cell_type": "code",
   "execution_count": 11,
   "metadata": {},
   "outputs": [
    {
     "data": {
      "text/plain": [
       "'a financial institution that accepts deposits and channels the money into lending activities'"
      ]
     },
     "execution_count": 11,
     "metadata": {},
     "output_type": "execute_result"
    }
   ],
   "source": [
    "# nltk\n",
    "sent = 'I went to the bank to deposit my money'\n",
    "ambiguous = 'bank'\n",
    "original_lesk(sent,ambiguous).definition()"
   ]
  },
  {
   "cell_type": "code",
   "execution_count": 12,
   "metadata": {},
   "outputs": [
    {
     "data": {
      "text/plain": [
       "'feline mammal usually having thick soft fur and no ability to roar: domestic cats; wildcats'"
      ]
     },
     "execution_count": 12,
     "metadata": {},
     "output_type": "execute_result"
    }
   ],
   "source": [
    "original_lesk('my cat likes to eat mice', 'cat').definition()"
   ]
  },
  {
   "cell_type": "code",
   "execution_count": 13,
   "metadata": {},
   "outputs": [
    {
     "data": {
      "text/plain": [
       "'mean or intend to express or convey'"
      ]
     },
     "execution_count": 13,
     "metadata": {},
     "output_type": "execute_result"
    }
   ],
   "source": [
    "#sent = 'She is mean to me'\n",
    "#sent = 'She mean me'\n",
    "sent = 'What do you mean'\n",
    "\n",
    "original_lesk(sent, 'mean').definition()\n",
    "#simple_lesk(sent, 'mean').definition()"
   ]
  },
  {
   "cell_type": "code",
   "execution_count": 14,
   "metadata": {},
   "outputs": [
    {
     "data": {
      "text/plain": [
       "'break with established customs'"
      ]
     },
     "execution_count": 14,
     "metadata": {},
     "output_type": "execute_result"
    }
   ],
   "source": [
    "# 'run'  'advice' , 'bat', 'project'  'fine'  'consoil'  'roll'  ''\n",
    "sent = 'The rebel seized the opportunity to rebel'\n",
    "adapted_lesk(sent, 'rebel').definition()"
   ]
  },
  {
   "cell_type": "code",
   "execution_count": 62,
   "metadata": {},
   "outputs": [
    {
     "name": "stdout",
     "output_type": "stream",
     "text": [
      "[('put into a bank account', 1), ('tip laterally', 1), ('a building in which the business of banking transacted', 2), ('be in the banking business', 3), ('do business with a bank or keep an account at a bank', 4), ('a container (usually with a slot in the top) for keeping money at home', 4), ('a financial institution that accepts deposits and channels the money into lending activities', 6), ('enclose with a bank', 21), ('a supply or stock held in reserve for future use (especially in emergencies)', 40)]\n"
     ]
    }
   ],
   "source": [
    "def seperateByDef(targetWord):\n",
    "    # Returns a dictionary sorted by defintion\n",
    "    sentList = scrape.scrape(targetWord)\n",
    "    \n",
    "    dictDef = {}\n",
    "    for i,sent in enumerate(sentList):\n",
    "        \n",
    "        defineSent = cosine_lesk(sent,targetWord).definition()\n",
    "        #defineSent = adapted_lesk(sent,targetWord).definition()        \n",
    "        \n",
    "        if defineSent not in dictDef:\n",
    "            dictDef[defineSent] = [sent]\n",
    "        else:\n",
    "            dictDef[defineSent].append(sent)\n",
    "    return dictDef\n",
    "\n",
    "def printDictKeysVals(inputDict):\n",
    "    for key in inputDict.keys():\n",
    "        print('-------------------------------------------------------')\n",
    "        print('Def: ', key)\n",
    "        for value in inputDict[key]:\n",
    "            print('        ', value)\n",
    "    \n",
    "def getDef(sent,targetWord):\n",
    "    # Get defintion of word\n",
    "    \n",
    "    defineSent = cosine_lesk(sent,targetWord).definition()\n",
    "    #defineSent = adapted_lesk(sent,targetWord).definition() \n",
    "    \n",
    "    return defineSent\n",
    "\n",
    "def printDefExampleSent(inputDict,wordDef):\n",
    "    print('Definition: ')\n",
    "    print(wordDef)\n",
    "    print('\\n\\n\\n')\n",
    "    print('Example sentence:')\n",
    "    for sent in inputDict[wordDef]:\n",
    "        print('-',sent)\n",
    "        print('')\n",
    "        \n",
    "        \n",
    "def countDefFreq(inputDict):\n",
    "    resDict = {}\n",
    "    for key in inputDict.keys():\n",
    "        resDict[key] = len(inputDict[key])\n",
    "    return sorted(resDict.items(), key=lambda kv: kv[1])\n",
    "\n",
    "targetWord = 'bank'\n",
    "#testSent = 'He does not have money in his bank account'\n",
    "testSent = 'He ran out of money in the bank'\n",
    "\n",
    "\n",
    "'''\n",
    "targetWord = 'rebel'\n",
    "testSent = 'He is rebelling against the government'\n",
    "'''\n",
    "\n",
    "dictDef = seperateByDef(targetWord)\n",
    "wordDef = getDef(sent,targetWord)\n",
    "\n",
    "printDefExampleSent(dictDef,wordDef)\n",
    "#printDictKeysVals(dictDef)\n",
    "\n",
    "\n",
    "\n",
    "# Print out frequency of each definiton used\n",
    "#print(countDefFreq(dictDef))\n"
   ]
  },
  {
   "cell_type": "code",
   "execution_count": null,
   "metadata": {},
   "outputs": [],
   "source": []
  },
  {
   "cell_type": "code",
   "execution_count": null,
   "metadata": {},
   "outputs": [],
   "source": []
  },
  {
   "cell_type": "code",
   "execution_count": null,
   "metadata": {},
   "outputs": [],
   "source": []
  },
  {
   "cell_type": "code",
   "execution_count": null,
   "metadata": {},
   "outputs": [],
   "source": []
  },
  {
   "cell_type": "code",
   "execution_count": null,
   "metadata": {},
   "outputs": [],
   "source": []
  },
  {
   "cell_type": "code",
   "execution_count": null,
   "metadata": {},
   "outputs": [],
   "source": []
  },
  {
   "cell_type": "code",
   "execution_count": null,
   "metadata": {},
   "outputs": [],
   "source": []
  },
  {
   "cell_type": "code",
   "execution_count": 18,
   "metadata": {},
   "outputs": [
    {
     "name": "stdout",
     "output_type": "stream",
     "text": [
      "\n",
      "A bank cloud building northeast :\n",
      "  -  A bank cloud building northeast\n",
      "  -  From airport window watched cloud bank build northwest\n",
      "  -  A bank cloud tumbled slope left bathing summit cold dampness\n",
      "  -  In addition storage building owns insurance agency bank bunch commercial real estate\n",
      "  -  Carmen shook head glancing bank building cloud\n",
      "  -  We waded gently reverently pulled together smoothly fish thought scared stream feared angler bank came went grandly like cloud float western sky motheropearl flock sometimes form dissolve\n",
      "Her bank account rarely two hundred :\n",
      "  -  Her bank account rarely two hundred\n",
      "  -  Cynthia smiled remembering earlydays confusion opening bed breakfast two newlywed one old man operating piggy bank finance ounce experience among\n",
      "  -  It thrown across gorge height two hundred fiftyeight foot water supported bank tower solid rock eight hundred foot apart\n",
      "  -  After breakfast closed account bank turned resignation\n",
      "  -  I cleaned bank account wrapped withdrawal slip pair short pinned pillow steak knife took\n",
      "  -  Shes stupid either Ill bet shed starve didnt bank account tap\n",
      "  -  Her body found Iowa bank Mississippi ten day later\n",
      "With one last look river turned away climbed bank clumsily heading towards road leading bridge home :\n",
      "  -  She sat river bank across series wide large step leading hill park Arch stood framed black sky\n",
      "  -  He walked river bank leading horse behind kept eye turned always toward dim dark spot knew old North Church\n",
      "  -  With one last look river turned away climbed bank clumsily heading towards road leading bridge home\n",
      "  -  Early morning twelfth June came tent pitched day steep left bank Niemen looked spyglass stream troop pouring Vilkavisski forest flowing three bridge thrown across river\n",
      "  -  They tried make way forward opposite bank though ford one third mile away proud swimming drowning river eye man sat log even looking\n",
      "  -  Climbing car purchased headed new bank account given guilt free shopping\n",
      "  -  Climbing bank headed across field old house\n",
      "Mr Catlin bank say he honest come :\n",
      "  -  Mr Catlin bank say he honest come\n",
      "  -  He rose crossed fireplace began bank fire hall clock struck eleven time\n",
      "  -  They take opposite bank theyre first say\n",
      "She found walking along bank gaze soul moving :\n",
      "  -  Seating low bank studied soul\n",
      "  -  She waded bank picked shoe stocking\n",
      "  -  She found walking along bank gaze soul moving\n",
      "  -  They moved slowly bank stood bumped dirt wall floated nestle pile bottom\n",
      "  -  Shipton continued yell paid line moving short nearvertical slope snowcovered rock eye fixed receding bank tree safety\n",
      "The bank within reach :\n",
      "  -  Within hour riding sidebyside south bank creek searching blocked area\n",
      "  -  Cushing swam swamp river bank wading among hour reached Federal picket boat\n",
      "  -  The bank within reach\n",
      "  -  These foliaceous heap lie along bank like slag furnace showing Nature full blast within\n",
      "  -  The majority struggled back bank started\n",
      "When paused bank could stand pain longer :\n",
      "  -  How could man four million bank financial danger\n",
      "  -  When paused bank could stand pain longer\n",
      "No one make onto bank security fed installed keep u Easterners crossing said shake head :\n",
      "  -  She stretched pulled onto bank shaking hard cold\n",
      "  -  An overseas bank account company name contained balance one million dollar startup fund u secure quarter enterprise\n",
      "  -  I observed vitals village grocery barroom postoffice bank necessary part machinery kept bell big gun fireengine convenient place house arranged make mankind lane fronting one another every traveller run gauntlet every man woman child might get lick\n",
      "  -  Did find belonged Landon asked emerged onto bank beside eerily glowing lake\n",
      "  -  Well youd better play Dolokhov added springing new pack card said Bank gentleman\n",
      "  -  No one make onto bank security fed installed keep u Easterners crossing said shake head\n",
      "  -  Mortgages u quickly processed private bank owned one Merrill Cooms entity\n",
      "The town Barwani situated near left bank Nerbudda :\n",
      "  -  The town Barwani situated near left bank Nerbudda\n",
      "  -  About 80000 went payment estate Land Bank 30000 went upkeep estate near Moscow town house allowance three princess 15000 given pension amount asylum 150000 alimony sent countess 70000 went interest debt\n",
      "  -  Spain province Leon situated near right bank river Tuerto junction SalamancaCorunna LeonAstorga railway\n",
      "  -  A short distance Felu Falls town Kayes left bank river\n",
      "  -  The battle Atbara fought near Nakheila place north bank river 30\n",
      "  -  On thirtieth attacked Mortiers division left bank broke\n",
      "  -  Finally spotted large chain store upon entering detected bank telephone near rest room\n",
      "  -  By time neared woman shed crossed intersection water fight would held later passing bank heart town\n",
      "ATMs replaced human bank teller called Automated Teller Machines :\n",
      "  -  ATMs replaced human bank teller called Automated Teller Machines\n",
      "  -  Sexstarved bank teller dont go subscribing town newspaper Fred grumbled response\n",
      "  -  The poor guy probably henpecked bank teller rented place trying shack honey struck\n",
      "I like one never cast look behind hesitates Rubicon crossed touched farther bank see shore left :\n",
      "  -  I guess buck one time—back bought land—but bank account never held candle mine\n",
      "  -  I like one never cast look behind hesitates Rubicon crossed touched farther bank see shore left\n",
      "  -  Several battalion soldier shirt sleeve despite cold wind swarmed earthwork like host white ant spadeful red clay continually thrown behind bank unseen hand\n",
      "  -  The men looked pressed bank hesitating step onto ice\n",
      "  -  On twentyeighth October Kutuzov army crossed left bank Danube took position first time river main body French\n",
      "Deidres gaze caught bank window lining one side penthouse :\n",
      "  -  Deidre emerged living room turned around completely expecting view city bank window along one wall\n",
      "  -  Water dripped tiny snowball cascaded slope bouncing unhelmeted head collar line scoured bank snow\n",
      "  -  The whole bank twenty forty foot high sometimes overlaid mass kind foliage sandy rupture quarter mile one side produce one spring day\n",
      "  -  Deidres gaze caught bank window lining one side penthouse\n",
      "If would know history homestead inquire bank mortgaged :\n",
      "  -  If would know history homestead inquire bank mortgaged\n",
      "  -  In le week would married somehow seemed violation bank account\n",
      "  -  And power understood science jurisprudence exchange bank history offer exchange history understanding power true gold\n",
      "Dean accompanied Fred far bank pay phone :\n",
      "  -  The money earned trip across desert devoted entirely paying loan money earned working bank set aside purchase supply ranch started paying\n",
      "  -  The trio far comfortable six month later enough money bank keep wolf away expectation prosperity least reasonably comfortable coming season\n",
      "  -  Dean turned around swinging knocking Shipton flying snow bank right hand started ground level\n",
      "  -  But old man finally much reluctance agreed refigure amount stolen Dean began ask fre­quently deposit made offered check bank record\n",
      "  -  Dean accompanied Fred far bank pay phone\n",
      "Bird Song providing simple living never going bring fortune bank account :\n",
      "  -  But also option local want kind reliably lowkey comfortable environment provided brand without break bank\n",
      "  -  Deans feeling mixed Pumpkins visit plus side buck Bird Songs bank account\n",
      "  -  Bird Song providing simple living never going bring fortune bank account\n",
      "You need identity—papers name—charge account bank feed little money time driver license stuff :\n",
      "  -  You need identity—papers name—charge account bank feed little money time driver license stuff\n",
      "  -  Only little earth crumbled bank horse hind hoof\n",
      "The western Mediterranean cut bank crossing narrow strait Sicily Cape Bon usually known Adventure Bank depth nowhere 200 fathom The mean depth western basin estimated 881 fathom deepest sounding recorded 2040 fathom In eastern Mediterranean mean depth nearly western basin :\n",
      "  -  The western Mediterranean cut bank crossing narrow strait Sicily Cape Bon usually known Adventure Bank depth nowhere 200 fathom The mean depth western basin estimated 881 fathom deepest sounding recorded 2040 fathom In eastern Mediterranean mean depth nearly western basin\n",
      "  -  The western Mediterranean cut bank crossing narrow strait Sicily Cape Bon usually known Adventure Bank depth nowhere 200 fathom The mean depth western basin estimated 881 fathom deepest sounding recorded 2040 fathom In eastern Mediterranean mean depth nearly western basin\n",
      "  -  Another bank ioo fathom surface run south east end Crete separating Pola Deep depth Levant basin depth 1960 fathom recorded near Makri coast Asia Minor\n",
      "  -  Where hazel bank steepest Where shadow fall deepest Where clustering nut fall free Thats way Billy\n",
      "Whats Internet fact checker post office Rolodex Yellow Pages White Pages game board garage sale university movie theater jukebox matchmaking service travel agent photo album bank support group :\n",
      "  -  Whats Internet fact checker post office Rolodex Yellow Pages White Pages game board garage sale university movie theater jukebox matchmaking service travel agent photo album bank support group\n",
      "  -  Everywhere bank dam pond healthy white muscular flesh\n",
      "  -  In fact Id confine bank vault guru mountain top sanctuary\n"
     ]
    }
   ],
   "source": [
    "import nltk, string\n",
    "from sklearn.feature_extraction.text import TfidfVectorizer\n",
    "from sklearn.cluster import AffinityPropagation\n",
    "from nltk.stem.snowball import SnowballStemmer\n",
    "\n",
    "punctuation_map = dict((ord(char), None) for char in string.punctuation)\n",
    "stemmer = SnowballStemmer(\"english\")\n",
    "\n",
    "def stem_tokens(tokens):\n",
    "    return [stemmer.stem(item) for item in tokens]\n",
    "\n",
    "def normalize(text):\n",
    "    return stem_tokens(nltk.word_tokenize(text.lower().translate(punctuation_map)))\n",
    "\n",
    "vectorizer = TfidfVectorizer(tokenizer=normalize)\n",
    "\n",
    "def get_clusters(sentences):\n",
    "    tf_idf_matrix = vectorizer.fit_transform(sentences)\n",
    "    similarity_matrix = (tf_idf_matrix * tf_idf_matrix.T).A\n",
    "    affinity_propagation = AffinityPropagation(affinity=\"precomputed\", damping=0.5)\n",
    "    affinity_propagation.fit(similarity_matrix)\n",
    "\n",
    "    labels = affinity_propagation.labels_\n",
    "    cluster_centers = affinity_propagation.cluster_centers_indices_\n",
    "\n",
    "    tagged_sentences = zip(sentences, labels)\n",
    "    clusters = {}\n",
    "\n",
    "    for sentence, cluster_id in tagged_sentences:\n",
    "        clusters.setdefault(sentences[cluster_centers[cluster_id]], []).append(sentence)\n",
    "\n",
    "    return clusters\n",
    "\n",
    "sentences = scrape.scrape('bank')\n",
    "\n",
    "\n",
    "sentences = simpleFilterList(sentences)\n",
    "\n",
    "clusters = get_clusters(sentences)\n",
    "print()\n",
    "for cluster in clusters:\n",
    "    print(cluster, ':')\n",
    "    for element in clusters[cluster]:\n",
    "        print('  - ', element)"
   ]
  },
  {
   "cell_type": "code",
   "execution_count": null,
   "metadata": {},
   "outputs": [],
   "source": []
  }
 ],
 "metadata": {
  "kernelspec": {
   "display_name": "Python 3",
   "language": "python",
   "name": "python3"
  },
  "language_info": {
   "codemirror_mode": {
    "name": "ipython",
    "version": 3
   },
   "file_extension": ".py",
   "mimetype": "text/x-python",
   "name": "python",
   "nbconvert_exporter": "python",
   "pygments_lexer": "ipython3",
   "version": "3.6.7"
  }
 },
 "nbformat": 4,
 "nbformat_minor": 2
}
