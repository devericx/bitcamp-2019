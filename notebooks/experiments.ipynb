{
 "cells": [
  {
   "cell_type": "code",
   "execution_count": 68,
   "metadata": {},
   "outputs": [
    {
     "name": "stdout",
     "output_type": "stream",
     "text": [
      "His card 8 heart\n"
     ]
    },
    {
     "data": {
      "text/plain": [
       "Synset('heart.n.10')"
      ]
     },
     "execution_count": 68,
     "metadata": {},
     "output_type": "execute_result"
    }
   ],
   "source": [
    "import nltk\n",
    "from nltk.wsd import lesk\n",
    "from pywsd.similarity import max_similarity,similarity_by_path\n",
    "from pywsd.lesk import simple_lesk, adapted_lesk, cosine_lesk,original_lesk\n",
    "\n",
    "from nltk.tokenize import PunktSentenceTokenizer,sent_tokenize, word_tokenize\n",
    "from nltk.corpus import stopwords, wordnet\n",
    "from nltk.stem import WordNetLemmatizer, PorterStemmer\n",
    "from nltk.corpus import wordnet as wn\n",
    "import string\n",
    "import operator\n",
    "\n",
    "import support.scrape as scrape\n",
    "\n",
    "\n",
    "# Languages\n",
    "from french_lefff_lemmatizer.french_lefff_lemmatizer import FrenchLefffLemmatizer\n",
    "\n",
    "\n",
    "targetLang = \"english\"\n",
    "#targetLang = \"french\"\n",
    "\n",
    "\n",
    "stop_words = set(stopwords.words(targetLang)) \n",
    "\n",
    "def simpleFilter(sentence):\n",
    "    filtered_sent = []\n",
    "    \n",
    "    lemmatizer = None\n",
    "    if targetLang == \"french\":\n",
    "        lemmatizer = FrenchLefffLemmatizer()\n",
    "    else:\n",
    "        lemmatizer = WordNetLemmatizer()\n",
    "    \n",
    "    \n",
    "    stop_words = set(stopwords.words(targetLang))\n",
    "    words = word_tokenize(sentence)\n",
    "\n",
    "    for w in words:\n",
    "        if w not in stop_words:\n",
    "            filtered_sent.append(lemmatizer.lemmatize(w))\n",
    "\n",
    "    return filtered_sent\n",
    "\n",
    "def listToString(inputSentList):\n",
    "    return ' '.join(inputSentList)\n",
    "\n",
    "def viewAllDefinitions(wordStr):\n",
    "    resList = []\n",
    "    for syn in wn.synsets(wordStr):\n",
    "        resList.append(syn.definition())\n",
    "    return resList\n",
    "\n",
    "def topRelevSent(targetWord):\n",
    "    return\n",
    "\n",
    "def simpleFilter(sentence):\n",
    "    filtered_sent = []\n",
    "    lemmatizer = WordNetLemmatizer()\n",
    "    stop_words = set(stopwords.words(targetLang))\n",
    "    words = word_tokenize(sentence)\n",
    "\n",
    "    for w in words:\n",
    "        if w not in stop_words:\n",
    "            filtered_sent.append(lemmatizer.lemmatize(w))\n",
    "    return listToString(filtered_sent)\n",
    "\n",
    "def simpleFilterList(sentList):\n",
    "    resList = []\n",
    "    for sent in sentList:\n",
    "        sent = sent.translate(str.maketrans('', '', string.punctuation))\n",
    "        resList.append(simpleFilter(sent))\n",
    "    return resList\n",
    "\n",
    "\n",
    "\n",
    "\n",
    "\n",
    "sent = 'His card was the 8 of hearts'\n",
    "ambiguous = 'heart'\n",
    "\n",
    "\n",
    "'''\n",
    "sent = 'Sa carte était la huit de cœur'\n",
    "ambiguous = 'cœur'\n",
    "'''\n",
    "\n",
    "sent = simpleFilter(sent)\n",
    "\n",
    "\n",
    "#cosine_lesk(sent,ambiguous).definition()\n",
    "print(sent)\n",
    "cosine_lesk(sent,ambiguous)\n",
    "\n",
    "\n",
    "# original_lesk seems to be better"
   ]
  },
  {
   "cell_type": "code",
   "execution_count": 59,
   "metadata": {},
   "outputs": [
    {
     "data": {
      "text/plain": [
       "['sloping land (especially the slope beside a body of water)',\n",
       " 'a financial institution that accepts deposits and channels the money into lending activities',\n",
       " 'a long ridge or pile',\n",
       " 'an arrangement of similar objects in a row or in tiers',\n",
       " 'a supply or stock held in reserve for future use (especially in emergencies)',\n",
       " 'the funds held by a gambling house or the dealer in some gambling games',\n",
       " 'a slope in the turn of a road or track; the outside is higher than the inside in order to reduce the effects of centrifugal force',\n",
       " 'a container (usually with a slot in the top) for keeping money at home',\n",
       " 'a building in which the business of banking transacted',\n",
       " 'a flight maneuver; aircraft tips laterally about its longitudinal axis (especially in turning)',\n",
       " 'tip laterally',\n",
       " 'enclose with a bank',\n",
       " 'do business with a bank or keep an account at a bank',\n",
       " 'act as the banker in a game or in gambling',\n",
       " 'be in the banking business',\n",
       " 'put into a bank account',\n",
       " 'cover with ashes so to control the rate of burning',\n",
       " 'have confidence or faith in']"
      ]
     },
     "execution_count": 59,
     "metadata": {},
     "output_type": "execute_result"
    }
   ],
   "source": [
    "\n",
    "        \n",
    "viewAllDefinitions('bank')     \n"
   ]
  },
  {
   "cell_type": "code",
   "execution_count": 60,
   "metadata": {},
   "outputs": [
    {
     "data": {
      "text/plain": [
       "'a financial institution that accepts deposits and channels the money into lending activities'"
      ]
     },
     "execution_count": 60,
     "metadata": {},
     "output_type": "execute_result"
    }
   ],
   "source": [
    "# nltk\n",
    "sent = 'I went to the bank to deposit my money'\n",
    "ambiguous = 'bank'\n",
    "original_lesk(sent,ambiguous).definition()"
   ]
  },
  {
   "cell_type": "code",
   "execution_count": 61,
   "metadata": {},
   "outputs": [
    {
     "data": {
      "text/plain": [
       "'feline mammal usually having thick soft fur and no ability to roar: domestic cats; wildcats'"
      ]
     },
     "execution_count": 61,
     "metadata": {},
     "output_type": "execute_result"
    }
   ],
   "source": [
    "original_lesk('my cat likes to eat mice', 'cat').definition()"
   ]
  },
  {
   "cell_type": "code",
   "execution_count": 62,
   "metadata": {},
   "outputs": [
    {
     "data": {
      "text/plain": [
       "'mean or intend to express or convey'"
      ]
     },
     "execution_count": 62,
     "metadata": {},
     "output_type": "execute_result"
    }
   ],
   "source": [
    "#sent = 'She is mean to me'\n",
    "#sent = 'She mean me'\n",
    "sent = 'What do you mean'\n",
    "\n",
    "original_lesk(sent, 'mean').definition()\n",
    "#simple_lesk(sent, 'mean').definition()"
   ]
  },
  {
   "cell_type": "code",
   "execution_count": 63,
   "metadata": {},
   "outputs": [
    {
     "data": {
      "text/plain": [
       "'break with established customs'"
      ]
     },
     "execution_count": 63,
     "metadata": {},
     "output_type": "execute_result"
    }
   ],
   "source": [
    "# 'run'  'advice' , 'bat', 'project'  'fine'  'consoil'  'roll'  ''\n",
    "sent = 'The rebel seized the opportunity to rebel'\n",
    "adapted_lesk(sent, 'rebel').definition()"
   ]
  },
  {
   "cell_type": "code",
   "execution_count": 76,
   "metadata": {},
   "outputs": [],
   "source": [
    "def seperateByDef(targetWord):\n",
    "    # Returns a dictionary sorted by defintion\n",
    "    sentList = scrape.scrape(targetWord)\n",
    "    \n",
    "    dictDef = {}\n",
    "    for i,sent in enumerate(sentList):\n",
    "        \n",
    "        #defineSent = cosine_lesk(sent,targetWord).definition()\n",
    "        defineSent = adapted_lesk(sent,targetWord).definition()        \n",
    "        \n",
    "        if defineSent not in dictDef:\n",
    "            dictDef[defineSent] = [sent]\n",
    "        else:\n",
    "            dictDef[defineSent].append(sent)\n",
    "    return dictDef\n",
    "\n",
    "def printDictKeysVals(inputDict):\n",
    "    for key in inputDict.keys():\n",
    "        print('-------------------------------------------------------')\n",
    "        print('Def: ', key)\n",
    "        for value in inputDict[key]:\n",
    "            print('        ', value)\n",
    "    \n",
    "def getDef(sent,targetWord):\n",
    "    # Get defintion of word\n",
    "    \n",
    "    #defineSent = cosine_lesk(sent,targetWord).definition()\n",
    "    #defineSent = adapted_lesk(sent,targetWord).definition() \n",
    "    defineSent = original_lesk(sent,targetWord).definition() \n",
    "    \n",
    "    return defineSent\n",
    "\n",
    "def printDefExampleSent(inputDict,wordDef):\n",
    "    print('Definition: ')\n",
    "    print(wordDef)\n",
    "    print('\\n\\n\\n')\n",
    "    print('Example sentence:')\n",
    "    \n",
    "    \n",
    "    \n",
    "    if wordDef not in inputDict:\n",
    "        print('No example sentences found')\n",
    "        return\n",
    "    \n",
    "    for sent in inputDict[wordDef]:\n",
    "        print('-',sent)\n",
    "        print('')\n",
    "        \n",
    "        \n",
    "def countDefFreq(inputDict,n):\n",
    "    resDict = {}\n",
    "    for key in inputDict.keys():\n",
    "        resDict[key] = len(inputDict[key])\n",
    "    return getTopDefEntries(resDict, n)\n",
    "\n",
    "def getTopDefEntries(inputDict, n):\n",
    "    return dict(sorted(inputDict.items(), key=operator.itemgetter(1), reverse=True)[:n])\n",
    "\n",
    "targetWord = 'bank'\n",
    "#testSent = 'He does not have money in his bank account'\n",
    "testSent = 'He ran out of money to deposit into his bank account'\n",
    "\n",
    "\n",
    "\n",
    "dictDef = seperateByDef(targetWord)\n",
    "wordDef = getDef(testSent,targetWord)\n",
    "\n",
    "#printDefExampleSent(dictDef,wordDef)\n",
    "#printDictKeysVals(dictDef)\n",
    "\n",
    "\n",
    "\n",
    "# Print out frequency of each definiton used\n",
    "topRes = countDefFreq(dictDef, 5)\n"
   ]
  },
  {
   "cell_type": "code",
   "execution_count": 78,
   "metadata": {},
   "outputs": [
    {
     "name": "stdout",
     "output_type": "stream",
     "text": [
      "have confidence or faith in :  24\n",
      "sloping land (especially the slope beside a body of water) :  11\n",
      "put into a bank account :  9\n",
      "a container (usually with a slot in the top) for keeping money at home :  9\n",
      "a financial institution that accepts deposits and channels the money into lending activities :  6\n"
     ]
    }
   ],
   "source": [
    "for key in topRes.keys():\n",
    "    print(key,': ', topRes[key])"
   ]
  },
  {
   "cell_type": "code",
   "execution_count": 80,
   "metadata": {},
   "outputs": [
    {
     "data": {
      "text/plain": [
       "['A bank of clouds was building to the northeast.',\n",
       " \"Mr. Catlin at the bank says he's as honest as they come.\",\n",
       " 'Seating herself on a low bank, she studied the souls.',\n",
       " 'Within an hour, they were riding side-by-side down the south bank of the creek, searching for the blocked area.',\n",
       " 'ATMs replaced human bank tellers, so they are called \"Automated Teller Machines.\"',\n",
       " 'She waded to the bank and picked up her shoes and stockings.',\n",
       " 'When they paused on the bank, she could stand the pain no longer.',\n",
       " 'The bank was within reach.',\n",
       " 'She found herself walking along the bank, gaze on the souls that were moving.',\n",
       " 'I was like one who never casts a look behind, who hesitates before some Rubicon to be crossed, but having touched the farther bank sees no more the shore he has just left.\"',\n",
       " 'Several battalions of soldiers, in their shirt sleeves despite the cold wind, swarmed in these earthworks like a host of white ants; spadefuls of red clay were continually being thrown up from behind the bank by unseen hands.',\n",
       " \"She's not stupid either, but I'll bet she'd starve if she didn't have a bank account to tap.\",\n",
       " '\"Well, you\\'d better not play,\" Dolokhov added, and springing a new pack of cards said: \"Bank, gentlemen!\"',\n",
       " \"And that is how power is understood by the science of jurisprudence, that exchange bank of history which offers to exchange history's understanding of power for true gold.\",\n",
       " 'These foliaceous heaps lie along the bank like the slag of a furnace, showing that Nature is \"in full blast\" within.',\n",
       " 'Early in the morning of the twelfth of June he came out of his tent, which was pitched that day on the steep left bank of the Niemen, and looked through a spyglass at the streams of his troops pouring out of the Vilkavisski forest and flowing over the three bridges thrown across the river.',\n",
       " 'They tried to make their way forward to the opposite bank and, though there was a ford one third of a mile away, were proud that they were swimming and drowning in this river under the eyes of the man who sat on the log and was not even looking at what they were doing.',\n",
       " 'Finally we spotted a large chain store and upon entering, detected a bank of telephones near the rest rooms.',\n",
       " \"They can take you to the opposite bank, but they're the first to say not to do it.\",\n",
       " 'The men looked at him and pressed to the bank, hesitating to step onto the ice.',\n",
       " 'The majority struggled back to the bank from which they had started.',\n",
       " 'Another bank i ioo fathoms from the surface runs south from the east end of Crete, separating the Pola Deep from the depths of the Levant basin, in which a depth of 1960 fathoms was recorded near Makri on the coast of Asia Minor.',\n",
       " 'Dean accompanied Fred as far as a bank of pay phones.',\n",
       " 'Everywhere on the bank, on the dam, and in the pond, there was healthy, white, muscular flesh.']"
      ]
     },
     "execution_count": 80,
     "metadata": {},
     "output_type": "execute_result"
    }
   ],
   "source": [
    "dictDef[list(topRes.keys())[0]]"
   ]
  },
  {
   "cell_type": "code",
   "execution_count": null,
   "metadata": {},
   "outputs": [],
   "source": [
    "\n"
   ]
  },
  {
   "cell_type": "code",
   "execution_count": null,
   "metadata": {},
   "outputs": [],
   "source": []
  },
  {
   "cell_type": "code",
   "execution_count": null,
   "metadata": {},
   "outputs": [],
   "source": []
  },
  {
   "cell_type": "code",
   "execution_count": null,
   "metadata": {},
   "outputs": [],
   "source": []
  },
  {
   "cell_type": "code",
   "execution_count": null,
   "metadata": {},
   "outputs": [],
   "source": []
  },
  {
   "cell_type": "code",
   "execution_count": 22,
   "metadata": {},
   "outputs": [
    {
     "name": "stdout",
     "output_type": "stream",
     "text": [
      "(91, 91)\n",
      "20\n",
      "--------------------------------------\n",
      "\"I like your cat,\" he said. :\n",
      "  -  \"You look like the cat that swallowed the canary,\" he said, giving her a puzzled look.\n",
      "  -  \"First time I ever saw a pink cat,\" said Zeb.\n",
      "  -  Dusty said I have to leave the cat with you.\n",
      "  -  \"I've never had a cat,\" he said, excited.\n",
      "  -  \"I like your cat,\" he said.\n",
      "--------------------------------------\n",
      "I didn't want the cat to stay all alone at your condo. :\n",
      "  -  I think the cat wants dessert!\n",
      "  -  I didn't want the cat to stay all alone at your condo.\n",
      "  -  Can I just stay here and guard your house and cat for you?\n",
      "--------------------------------------\n",
      "To her surprise, the cat gave him no resistance. :\n",
      "  -  I'm in no mood to watch a cat fight tonight.\n",
      "  -  Once I was surprised to see a cat walking along the stony shore of the pond, for they rarely wander so far from home.\n",
      "  -  Dean went to cat and girl and gave them both a long hug.\n",
      "  -  He returned to the house to await Darian, not surprised to see Bianca's black and white cat darting down the stairs.\n",
      "  -  To her surprise, the cat gave him no resistance.\n",
      "--------------------------------------\n",
      "I called her attention to the following line, and, although she knew only the three words, CAT, EAT and MOUSE, she caught the idea. :\n",
      "  -  The cat would like to eat the mouse.\n",
      "  -  She lifted the cat to her lap and turned so the light from the doorway would fall on the foot.\n",
      "  -  She giggled and cuddled the cat close.\n",
      "  -  And the whole thing has been unnatural because that cat and I are both able to talk your language, and to understand the words you say.\n",
      "  -  Next I turned to the first page of the primer and made her touch the word CAT, spelling it on my fingers at the same time.\n",
      "  -  I called her attention to the following line, and, although she knew only the three words, CAT, EAT and MOUSE, she caught the idea.\n",
      "--------------------------------------\n",
      "Bianca was asleep on the couch, the cat curled on her back. :\n",
      "  -  A large grey cat was asleep on a rocking chair.\n",
      "  -  Bianca was asleep on the couch, the cat curled on her back.\n",
      "  -  Darian looked at her, content with cookies resting on one thigh and the cat on the other.\n",
      "  -  At length, in the war of 1812, her dwelling was set on fire by English soldiers, prisoners on parole, when she was away, and her cat and dog and hens were all burned up together.\n",
      "  -  Dainty cat prints trekked through the flour she'd spilled on the counter.\n",
      "  -  She sat on the table in the exam room facing a line of backlit x-rays and cat scans on the wall.\n",
      "--------------------------------------\n",
      "It didn't purr like a cat but growled. :\n",
      "  -  It didn't purr like a cat but growled.\n",
      "  -  It looked like a cat scan of a brain, but it wasn't hers.\n",
      "  -  It didn't spin webs and looked more to Evelyn like a mutated cat, but the moment she recalled Kiera's fear, she also realized that the cat-like creature would easily pass as a large spider.\n",
      "--------------------------------------\n",
      "\"Dusty is just now on good terms with my cat,\" Biana replied. :\n",
      "  -  \"Yes. Sweet cat,\" Jenn replied.\n",
      "  -  \"Dusty is just now on good terms with my cat,\" Biana replied.\n",
      "  -  I thought I might just as well describe my pet in order to know it--order, vertebrate; division, quadruped; class, mammalia; genus, felinus; species, cat; individual, Tabby.\n",
      "  -  In her own words, they were \"good boards overhead, good boards all around, and a good window\"--of two whole squares originally, only the cat had passed out that way lately.\n",
      "--------------------------------------\n",
      "\"Seems to me the same way,\" said Billina, scornfully, \"if that beastly cat is one of them.\" :\n",
      "  -  And don't try to tell me that black cat wasn't you!\n",
      "  -  To that extent, the contraption that automatically metes out the daily allotment of cat food for your pet is a robot.\n",
      "  -  The svelte model wore towering boots and a one- piece cat suit that left nothing to the imagination.\n",
      "  -  \"Seems to me the same way,\" said Billina, scornfully, \"if that beastly cat is one of them.\"\n",
      "  -  An example of that is a breed of cat called \"Scottish Fold.\"\n",
      "--------------------------------------\n",
      "Thankful for the change of subject, Cynthia launched into a description of her latest conquests with the cat, again tucking that nagging doubt to the back of her mind. :\n",
      "  -  Thankful for the change of subject, Cynthia launched into a description of her latest conquests with the cat, again tucking that nagging doubt to the back of her mind.\n",
      "  -  He growled a warning and peered back at her through the silver eyes of a cat-like beast the size of a large horse.\n",
      "  -  The cat declined a lap-offer in favor of the purple rocker, Martha's chair, as if to question the whereabouts of her missing friend.\n",
      "  -  Carry this cat away to prison, and keep her in safe confinement until she is tried by law for the crime of murder.\n",
      "--------------------------------------\n",
      "He was expecting worse than a cat in Darian's room. :\n",
      "  -  He was expecting worse than a cat in Darian's room.\n",
      "  -  Look what he dreamt; a woman ironing shirts, a child playing, a cat and a farmer pitching hay.\n",
      "  -  He really wasn't too much bigger than a cat, not when compared to an adult.\n",
      "  -  An old Cat was in a fair way to kill all the Mice in the barn.\n",
      "  -  \"If he planted you, he might grow some cat-tails,\" suggested the Wizard.\n",
      "  -  She'd dared to hope again that everything was a hallucination brought on by too much alcohol, until Toby burst in chasing a cat she didn't remember owning.\n",
      "  -  In 1961 in Perthshire, Scotland, a white barn cat named Susie was found at a farm.\n",
      "  -  Then he graduated and dosed a cat in kerosene.\n",
      "  -  \"I'm glad I got the cat,\" Darian murmured.\n",
      "--------------------------------------\n",
      "The cat can see the mouse. :\n",
      "  -  The cat can see the mouse.\n",
      "  -  The cat can see the mouse.\n",
      "  -  The cat can have some milk, and the mouse can have some cake.\n",
      "--------------------------------------\n",
      "And then she ran into several of the cat-like creatures roaming the ship. :\n",
      "  -  And then she ran into several of the cat-like creatures roaming the ship.\n",
      "  -  The room was vacant except for a metal slab that served as a bed and the six-legged, cat-like creature sitting on the edge of the bed watching its sleeping occupant.\n",
      "  -  The cat-like creature squirmed.\n",
      "  -  Romas strode in unasked, and she cursed quietly as she saw the cat-like critter chasing Kiera.\n",
      "  -  \"Your Royal Highness and Fellow Citizens,\" he began; \"the small cat you see a prisoner before you is accused of the crime of first murdering and then eating our esteemed Ruler's fat piglet--or else first eating and then murdering it.\n",
      "--------------------------------------\n",
      "Cade handed her the cat and cuffed her playfully. :\n",
      "  -  Cade handed her the cat and cuffed her playfully.\n",
      "  -  Bianca's drowsy cat warmed one of her thighs, and it hopped off to hide beneath the table opposite her.\n",
      "  -  I then guided her hand to form the sentence, \"Cat does drink milk.\"\n",
      "  -  The boy had clambered across her bed, shrieked happily, and chased the cat under the bed.\n",
      "--------------------------------------\n",
      "\"Who killed your cat?\" she asked. :\n",
      "  -  Dawkins asked as he waved a foot at the cat, who scurried back and repeated her greeting.\n",
      "  -  \"Who killed your cat?\" she asked.\n",
      "  -  \"Stupid cat,\" she muttered.\n",
      "--------------------------------------\n",
      "She liked to feel the cat purr; and if by chance she felt a dog in the act of barking, she showed great pleasure. :\n",
      "  -  Like a cat, she had attached herself not to the people but to the home.\n",
      "  -  I was pleased with anything that made a noise and liked to feel the cat purr and the dog bark.\n",
      "  -  \"Well, this was a figure of a cat,\" said Jim, \"and she WENT down, anyhow, whether she climbed or crept.\"\n",
      "  -  She liked to feel the cat purr; and if by chance she felt a dog in the act of barking, she showed great pleasure.\n",
      "--------------------------------------\n",
      "Once, when berrying, I met with a cat with young kittens in the woods, quite wild, and they all, like their mother, had their backs up and were fiercely spitting at me. :\n",
      "  -  Once, when berrying, I met with a cat with young kittens in the woods, quite wild, and they all, like their mother, had their backs up and were fiercely spitting at me.\n",
      "  -  He knew what a shock he would inflict on his father and mother by the news of this loss, he knew what a relief it would be to escape it all, and felt that Dolokhov knew that he could save him from all this shame and sorrow, but wanted now to play with him as a cat does with a mouse.\n",
      "  -  A neighboring farmer and cat-lover, William Ross, perhaps hearing a distinct \"ka-ching\" in his head, got one of the kittens and teamed up with a geneticist and began a careful breeding program.\n",
      "  -  When I returned I felt a big cat brush past me as I opened the door.\n",
      "  -  One large bundle held their all--bed, coffee-mill, looking-glass, hens--all but the cat; she took to the woods and became a wild cat, and, as I learned afterward, trod in a trap set for woodchucks, and so became a dead cat at last.\n",
      "--------------------------------------\n",
      "Cade was trying to be accommodating, but sometimes he was as skittish about conversation as the cat was about being touched - and likely for the same reason. :\n",
      "  -  She's such a little fraidy cat but I shan't be able to keep her much longer.\n",
      "  -  Cade was slowly emerging from his shell, but the cat was still as wild as ever.\n",
      "  -  Cade was trying to be accommodating, but sometimes he was as skittish about conversation as the cat was about being touched - and likely for the same reason.\n",
      "  -  No, but there's nothing odd about a Tom cat wandering off for a few days.\n",
      "  -  She was as nervous as a cat in a dog pound.\n",
      "--------------------------------------\n",
      "She felt death within him, as she had with her cat Snickers after a car ran him over. :\n",
      "  -  She felt like petting the healer to calm him as she might Toby.s cat but suspected it wouldn.t be welcome.\n",
      "  -  She felt death within him, as she had with her cat Snickers after a car ran him over.\n",
      "  -  She gaped at him as he set the cat and the box down.\n",
      "  -  I too felt a slumberous influence after watching him half an hour, as he sat thus with his eyes half open, like a cat, winged brother of the cat.\n",
      "  -  For a moment she lay still, afraid any movement would frighten him away like a wild cat in the daylight.\n",
      "--------------------------------------\n",
      "Cynthia reached over to stroke Mrs. Lincoln as the cat began adding a steady purr to the conversation. :\n",
      "  -  \"And the cat,\" Evelyn added.\n",
      "  -  Cynthia reached over to stroke Mrs. Lincoln as the cat began adding a steady purr to the conversation.\n",
      "  -  Mrs. Lincoln, the Deans' cat, strolled into the room and rubbed the young girl's leg as if to ask what was the problem.\n",
      "--------------------------------------\n",
      "Do not let the cat get the mouse. :\n",
      "  -  Here I made the cat look at the mouse, and let Helen feel the cat.\n",
      "  -  When she read, \"Do not let the cat get the mouse!\" she recognized the negation in the sentence, and seemed to know that the cat must not get the mouse.\n",
      "  -  Do not let the cat get the mouse.\n",
      "  -  Did the cat get your tongue at the table?\n"
     ]
    },
    {
     "ename": "ValueError",
     "evalue": "Incompatible dimension for X and Y matrices: X.shape[1] == 1 while Y.shape[1] == 91",
     "output_type": "error",
     "traceback": [
      "\u001b[0;31m---------------------------------------------------------------------------\u001b[0m",
      "\u001b[0;31mValueError\u001b[0m                                Traceback (most recent call last)",
      "\u001b[0;32m<ipython-input-22-642835ca15ef>\u001b[0m in \u001b[0;36m<module>\u001b[0;34m\u001b[0m\n\u001b[1;32m     50\u001b[0m \u001b[0mtf_idf_matrix\u001b[0m \u001b[0;34m=\u001b[0m \u001b[0mvectorizer\u001b[0m\u001b[0;34m.\u001b[0m\u001b[0mfit_transform\u001b[0m\u001b[0;34m(\u001b[0m\u001b[0;34m[\u001b[0m\u001b[0;34m'The cat is running away from the dog'\u001b[0m\u001b[0;34m]\u001b[0m\u001b[0;34m)\u001b[0m\u001b[0;34m\u001b[0m\u001b[0;34m\u001b[0m\u001b[0m\n\u001b[1;32m     51\u001b[0m \u001b[0msimilarity_matrix\u001b[0m \u001b[0;34m=\u001b[0m \u001b[0;34m(\u001b[0m\u001b[0mtf_idf_matrix\u001b[0m \u001b[0;34m*\u001b[0m \u001b[0mtf_idf_matrix\u001b[0m\u001b[0;34m.\u001b[0m\u001b[0mT\u001b[0m\u001b[0;34m)\u001b[0m\u001b[0;34m.\u001b[0m\u001b[0mA\u001b[0m\u001b[0;34m\u001b[0m\u001b[0;34m\u001b[0m\u001b[0m\n\u001b[0;32m---> 52\u001b[0;31m \u001b[0mprint\u001b[0m\u001b[0;34m(\u001b[0m\u001b[0maffinity_propagation\u001b[0m\u001b[0;34m.\u001b[0m\u001b[0mpredict\u001b[0m\u001b[0;34m(\u001b[0m\u001b[0msimilarity_matrix\u001b[0m\u001b[0;34m)\u001b[0m\u001b[0;34m)\u001b[0m\u001b[0;34m\u001b[0m\u001b[0;34m\u001b[0m\u001b[0m\n\u001b[0m",
      "\u001b[0;32m/usr/local/lib/python3.6/dist-packages/sklearn/cluster/affinity_propagation_.py\u001b[0m in \u001b[0;36mpredict\u001b[0;34m(self, X)\u001b[0m\n\u001b[1;32m    405\u001b[0m \u001b[0;34m\u001b[0m\u001b[0m\n\u001b[1;32m    406\u001b[0m         \u001b[0;32mif\u001b[0m \u001b[0mself\u001b[0m\u001b[0;34m.\u001b[0m\u001b[0mcluster_centers_\u001b[0m\u001b[0;34m.\u001b[0m\u001b[0msize\u001b[0m \u001b[0;34m>\u001b[0m \u001b[0;36m0\u001b[0m\u001b[0;34m:\u001b[0m\u001b[0;34m\u001b[0m\u001b[0;34m\u001b[0m\u001b[0m\n\u001b[0;32m--> 407\u001b[0;31m             \u001b[0;32mreturn\u001b[0m \u001b[0mpairwise_distances_argmin\u001b[0m\u001b[0;34m(\u001b[0m\u001b[0mX\u001b[0m\u001b[0;34m,\u001b[0m \u001b[0mself\u001b[0m\u001b[0;34m.\u001b[0m\u001b[0mcluster_centers_\u001b[0m\u001b[0;34m)\u001b[0m\u001b[0;34m\u001b[0m\u001b[0;34m\u001b[0m\u001b[0m\n\u001b[0m\u001b[1;32m    408\u001b[0m         \u001b[0;32melse\u001b[0m\u001b[0;34m:\u001b[0m\u001b[0;34m\u001b[0m\u001b[0;34m\u001b[0m\u001b[0m\n\u001b[1;32m    409\u001b[0m             warnings.warn(\"This model does not have any cluster centers \"\n",
      "\u001b[0;32m/usr/local/lib/python3.6/dist-packages/sklearn/metrics/pairwise.py\u001b[0m in \u001b[0;36mpairwise_distances_argmin\u001b[0;34m(X, Y, axis, metric, batch_size, metric_kwargs)\u001b[0m\n\u001b[1;32m    438\u001b[0m     return pairwise_distances_argmin_min(X, Y, axis, metric,\n\u001b[1;32m    439\u001b[0m                                          \u001b[0mmetric_kwargs\u001b[0m\u001b[0;34m=\u001b[0m\u001b[0mmetric_kwargs\u001b[0m\u001b[0;34m,\u001b[0m\u001b[0;34m\u001b[0m\u001b[0;34m\u001b[0m\u001b[0m\n\u001b[0;32m--> 440\u001b[0;31m                                          batch_size=batch_size)[0]\n\u001b[0m\u001b[1;32m    441\u001b[0m \u001b[0;34m\u001b[0m\u001b[0m\n\u001b[1;32m    442\u001b[0m \u001b[0;34m\u001b[0m\u001b[0m\n",
      "\u001b[0;32m/usr/local/lib/python3.6/dist-packages/sklearn/metrics/pairwise.py\u001b[0m in \u001b[0;36mpairwise_distances_argmin_min\u001b[0;34m(X, Y, axis, metric, batch_size, metric_kwargs)\u001b[0m\n\u001b[1;32m    344\u001b[0m                       \u001b[0;34m\"Use sklearn.set_config(working_memory=...) instead.\"\u001b[0m\u001b[0;34m,\u001b[0m\u001b[0;34m\u001b[0m\u001b[0;34m\u001b[0m\u001b[0m\n\u001b[1;32m    345\u001b[0m                       DeprecationWarning)\n\u001b[0;32m--> 346\u001b[0;31m     \u001b[0mX\u001b[0m\u001b[0;34m,\u001b[0m \u001b[0mY\u001b[0m \u001b[0;34m=\u001b[0m \u001b[0mcheck_pairwise_arrays\u001b[0m\u001b[0;34m(\u001b[0m\u001b[0mX\u001b[0m\u001b[0;34m,\u001b[0m \u001b[0mY\u001b[0m\u001b[0;34m)\u001b[0m\u001b[0;34m\u001b[0m\u001b[0;34m\u001b[0m\u001b[0m\n\u001b[0m\u001b[1;32m    347\u001b[0m \u001b[0;34m\u001b[0m\u001b[0m\n\u001b[1;32m    348\u001b[0m     \u001b[0;32mif\u001b[0m \u001b[0mmetric_kwargs\u001b[0m \u001b[0;32mis\u001b[0m \u001b[0;32mNone\u001b[0m\u001b[0;34m:\u001b[0m\u001b[0;34m\u001b[0m\u001b[0;34m\u001b[0m\u001b[0m\n",
      "\u001b[0;32m/usr/local/lib/python3.6/dist-packages/sklearn/metrics/pairwise.py\u001b[0m in \u001b[0;36mcheck_pairwise_arrays\u001b[0;34m(X, Y, precomputed, dtype)\u001b[0m\n\u001b[1;32m    122\u001b[0m         raise ValueError(\"Incompatible dimension for X and Y matrices: \"\n\u001b[1;32m    123\u001b[0m                          \"X.shape[1] == %d while Y.shape[1] == %d\" % (\n\u001b[0;32m--> 124\u001b[0;31m                              X.shape[1], Y.shape[1]))\n\u001b[0m\u001b[1;32m    125\u001b[0m \u001b[0;34m\u001b[0m\u001b[0m\n\u001b[1;32m    126\u001b[0m     \u001b[0;32mreturn\u001b[0m \u001b[0mX\u001b[0m\u001b[0;34m,\u001b[0m \u001b[0mY\u001b[0m\u001b[0;34m\u001b[0m\u001b[0;34m\u001b[0m\u001b[0m\n",
      "\u001b[0;31mValueError\u001b[0m: Incompatible dimension for X and Y matrices: X.shape[1] == 1 while Y.shape[1] == 91"
     ]
    }
   ],
   "source": [
    "import nltk, string\n",
    "from sklearn.feature_extraction.text import TfidfVectorizer\n",
    "from sklearn.cluster import AffinityPropagation\n",
    "from nltk.stem.snowball import SnowballStemmer\n",
    "\n",
    "punctuation_map = dict((ord(char), None) for char in string.punctuation)\n",
    "stemmer = SnowballStemmer(\"english\")\n",
    "\n",
    "def stem_tokens(tokens):\n",
    "    return [stemmer.stem(item) for item in tokens]\n",
    "\n",
    "def normalize(text):\n",
    "    return stem_tokens(nltk.word_tokenize(text.lower().translate(punctuation_map)))\n",
    "\n",
    "vectorizer = TfidfVectorizer(tokenizer=normalize)\n",
    "\n",
    "def get_clusters(sentences):\n",
    "    tf_idf_matrix = vectorizer.fit_transform(sentences)\n",
    "    similarity_matrix = (tf_idf_matrix * tf_idf_matrix.T).A\n",
    "    affinity_propagation = AffinityPropagation(damping=0.5)\n",
    "    affinity_propagation.fit(similarity_matrix)\n",
    "    print(similarity_matrix.shape)\n",
    "\n",
    "    labels = affinity_propagation.labels_\n",
    "    cluster_centers = affinity_propagation.cluster_centers_indices_\n",
    "\n",
    "    tagged_sentences = zip(sentences, labels)\n",
    "    clusters = {}\n",
    "\n",
    "    for sentence, cluster_id in tagged_sentences:\n",
    "        clusters.setdefault(sentences[cluster_centers[cluster_id]], []).append(sentence)\n",
    "\n",
    "    return clusters, affinity_propagation\n",
    "\n",
    "sentences = scrape.scrape('cat')\n",
    "\n",
    "\n",
    "#sentences = simpleFilterList(sentences)\n",
    "\n",
    "clusters, affinity_propagation = get_clusters(sentences)\n",
    "print(len(clusters))\n",
    "for cluster in clusters:\n",
    "    print('--------------------------------------')\n",
    "    print(cluster, ':')\n",
    "    for element in clusters[cluster]:\n",
    "        print('  - ', element)\n",
    "\n",
    "        \n",
    "        \n",
    "tf_idf_matrix = vectorizer.fit_transform(['The cat is running away from the dog'])\n",
    "similarity_matrix = (tf_idf_matrix * tf_idf_matrix.T).A\n",
    "print(affinity_propagation.predict(similarity_matrix))"
   ]
  },
  {
   "cell_type": "code",
   "execution_count": null,
   "metadata": {},
   "outputs": [],
   "source": []
  }
 ],
 "metadata": {
  "kernelspec": {
   "display_name": "Python 3",
   "language": "python",
   "name": "python3"
  },
  "language_info": {
   "codemirror_mode": {
    "name": "ipython",
    "version": 3
   },
   "file_extension": ".py",
   "mimetype": "text/x-python",
   "name": "python",
   "nbconvert_exporter": "python",
   "pygments_lexer": "ipython3",
   "version": "3.6.7"
  }
 },
 "nbformat": 4,
 "nbformat_minor": 2
}
