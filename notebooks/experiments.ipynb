{
 "cells": [
  {
   "cell_type": "code",
   "execution_count": 135,
   "metadata": {},
   "outputs": [
    {
     "name": "stdout",
     "output_type": "stream",
     "text": [
      "His hand 8 heart\n"
     ]
    },
    {
     "data": {
      "text/plain": [
       "'the hollow muscular organ located behind the sternum and between the lungs; its rhythmic contractions move the blood through the body'"
      ]
     },
     "execution_count": 135,
     "metadata": {},
     "output_type": "execute_result"
    }
   ],
   "source": [
    "import nltk\n",
    "from nltk.wsd import lesk\n",
    "from pywsd.similarity import max_similarity,similarity_by_path\n",
    "from pywsd.lesk import simple_lesk, adapted_lesk, cosine_lesk,original_lesk\n",
    "\n",
    "from nltk.tokenize import PunktSentenceTokenizer,sent_tokenize, word_tokenize\n",
    "from nltk.corpus import stopwords, wordnet\n",
    "from nltk.stem import WordNetLemmatizer, PorterStemmer\n",
    "from nltk.corpus import wordnet as wn\n",
    "import string\n",
    "\n",
    "\n",
    "stop_words = set(stopwords.words('english')) \n",
    "\n",
    "def simpleFilter(sentence):\n",
    "    filtered_sent = []\n",
    "    lemmatizer = WordNetLemmatizer()\n",
    "    stop_words = set(stopwords.words(\"english\"))\n",
    "    words = word_tokenize(sentence)\n",
    "\n",
    "    for w in words:\n",
    "        if w not in stop_words:\n",
    "            filtered_sent.append(lemmatizer.lemmatize(w))\n",
    "\n",
    "    return filtered_sent\n",
    "\n",
    "def listToString(inputSentList):\n",
    "    return ' '.join(inputSentList)\n",
    "\n",
    "def viewAllDefinitions(wordStr):\n",
    "    resList = []\n",
    "    for syn in wn.synsets(wordStr):\n",
    "        resList.append(syn.definition())\n",
    "    return resList\n",
    "\n",
    "def topRelevSent(targetWord):\n",
    "    return\n",
    "\n",
    "def simpleFilter(sentence):\n",
    "    filtered_sent = []\n",
    "    lemmatizer = WordNetLemmatizer()\n",
    "    stop_words = set(stopwords.words(\"english\"))\n",
    "    words = word_tokenize(sentence)\n",
    "\n",
    "    for w in words:\n",
    "        if w not in stop_words:\n",
    "            filtered_sent.append(lemmatizer.lemmatize(w))\n",
    "\n",
    "    return listToString(filtered_sent)\n",
    "\n",
    "def simpleFilterList(sentList):\n",
    "    resList = []\n",
    "    for sent in sentList:\n",
    "        sent = sent.translate(str.maketrans('', '', string.punctuation))\n",
    "        resList.append(simpleFilter(sent))\n",
    "    return resList\n",
    "\n",
    "\n",
    "\n",
    "\n",
    "\n",
    "sent = 'His hand was the 8 of hearts'\n",
    "ambiguous = 'heart'\n",
    "\n",
    "sent = simpleFilter(sent)\n",
    "sent = listToString(sent)\n",
    "\n",
    "\n",
    "print(sent)\n",
    "cosine_lesk(sent,ambiguous).definition()\n",
    "\n",
    "\n",
    "\n",
    "# original_lesk seems to be better"
   ]
  },
  {
   "cell_type": "code",
   "execution_count": 139,
   "metadata": {},
   "outputs": [
    {
     "data": {
      "text/plain": [
       "['sloping land (especially the slope beside a body of water)',\n",
       " 'a financial institution that accepts deposits and channels the money into lending activities',\n",
       " 'a long ridge or pile',\n",
       " 'an arrangement of similar objects in a row or in tiers',\n",
       " 'a supply or stock held in reserve for future use (especially in emergencies)',\n",
       " 'the funds held by a gambling house or the dealer in some gambling games',\n",
       " 'a slope in the turn of a road or track; the outside is higher than the inside in order to reduce the effects of centrifugal force',\n",
       " 'a container (usually with a slot in the top) for keeping money at home',\n",
       " 'a building in which the business of banking transacted',\n",
       " 'a flight maneuver; aircraft tips laterally about its longitudinal axis (especially in turning)',\n",
       " 'tip laterally',\n",
       " 'enclose with a bank',\n",
       " 'do business with a bank or keep an account at a bank',\n",
       " 'act as the banker in a game or in gambling',\n",
       " 'be in the banking business',\n",
       " 'put into a bank account',\n",
       " 'cover with ashes so to control the rate of burning',\n",
       " 'have confidence or faith in']"
      ]
     },
     "execution_count": 139,
     "metadata": {},
     "output_type": "execute_result"
    }
   ],
   "source": [
    "\n",
    "        \n",
    "viewAllDefinitions('bank')     \n"
   ]
  },
  {
   "cell_type": "code",
   "execution_count": 43,
   "metadata": {},
   "outputs": [
    {
     "data": {
      "text/plain": [
       "'a financial institution that accepts deposits and channels the money into lending activities'"
      ]
     },
     "execution_count": 43,
     "metadata": {},
     "output_type": "execute_result"
    }
   ],
   "source": [
    "# nltk\n",
    "sent = 'I went to the bank to deposit my money'\n",
    "ambiguous = 'bank'\n",
    "original_lesk(sent,ambiguous).definition()"
   ]
  },
  {
   "cell_type": "code",
   "execution_count": 69,
   "metadata": {},
   "outputs": [
    {
     "data": {
      "text/plain": [
       "'feline mammal usually having thick soft fur and no ability to roar: domestic cats; wildcats'"
      ]
     },
     "execution_count": 69,
     "metadata": {},
     "output_type": "execute_result"
    }
   ],
   "source": [
    "original_lesk('my cat likes to eat mice', 'cat').definition()"
   ]
  },
  {
   "cell_type": "code",
   "execution_count": 45,
   "metadata": {},
   "outputs": [
    {
     "data": {
      "text/plain": [
       "'mean or intend to express or convey'"
      ]
     },
     "execution_count": 45,
     "metadata": {},
     "output_type": "execute_result"
    }
   ],
   "source": [
    "#sent = 'She is mean to me'\n",
    "#sent = 'She mean me'\n",
    "sent = 'What do you mean'\n",
    "\n",
    "original_lesk(sent, 'mean').definition()\n",
    "#simple_lesk(sent, 'mean').definition()"
   ]
  },
  {
   "cell_type": "code",
   "execution_count": 67,
   "metadata": {},
   "outputs": [
    {
     "data": {
      "text/plain": [
       "'break with established customs'"
      ]
     },
     "execution_count": 67,
     "metadata": {},
     "output_type": "execute_result"
    }
   ],
   "source": [
    "# 'run'  'advice' , 'bat', 'project'  'fine'  'consoil'  'roll'  ''\n",
    "sent = 'The rebel seized the opportunity to rebel'\n",
    "adapted_lesk(sent, 'rebel').definition()"
   ]
  },
  {
   "cell_type": "code",
   "execution_count": 161,
   "metadata": {},
   "outputs": [
    {
     "name": "stdout",
     "output_type": "stream",
     "text": [
      "\n",
      "He went bank :\n",
      "  -  He went bank\n",
      "  -  He swimming river bank\n",
      "  -  He enough money withdraw bank\n",
      "  -  Mr Catlin bank say honest come\n",
      "  -  Seating low bank studied soul\n",
      "A bank cloud building northeast :\n",
      "  -  A bank cloud building northeast\n",
      "  -  From airport window watched cloud bank build northwest\n",
      "She stupid either I bet starve bank account tap :\n",
      "  -  She sat river bank across series wide large step leading hill park Arch stood framed black sky\n",
      "  -  I guess buck one time—back bought land—but bank account never held candle mine\n",
      "  -  She waded bank picked shoe stocking\n",
      "  -  I cleaned bank account wrapped withdrawal slip pair short pinned pillow steak knife took\n",
      "  -  She stupid either I bet starve bank account tap\n",
      "How could man four million bank financial danger :\n",
      "  -  How could man four million bank financial danger\n",
      "  -  An overseas bank account company name contained balance one million dollar startup fund u secure quarter enterprise\n",
      "ATMs replaced human bank teller called Automated Teller Machines :\n",
      "  -  ATMs replaced human bank teller called Automated Teller Machines\n",
      "  -  Sexstarved bank teller go subscribing town newspaper Fred grumbled response\n"
     ]
    }
   ],
   "source": [
    "import nltk, string\n",
    "from sklearn.feature_extraction.text import TfidfVectorizer\n",
    "from sklearn.cluster import AffinityPropagation\n",
    "from nltk.stem.snowball import SnowballStemmer\n",
    "\n",
    "punctuation_map = dict((ord(char), None) for char in string.punctuation)\n",
    "stemmer = SnowballStemmer(\"english\")\n",
    "\n",
    "def stem_tokens(tokens):\n",
    "    return [stemmer.stem(item) for item in tokens]\n",
    "\n",
    "def normalize(text):\n",
    "    return stem_tokens(nltk.word_tokenize(text.lower().translate(punctuation_map)))\n",
    "\n",
    "vectorizer = TfidfVectorizer(tokenizer=normalize)\n",
    "\n",
    "def get_clusters(sentences):\n",
    "    tf_idf_matrix = vectorizer.fit_transform(sentences)\n",
    "    similarity_matrix = (tf_idf_matrix * tf_idf_matrix.T).A\n",
    "    affinity_propagation = AffinityPropagation(affinity=\"precomputed\", damping=0.5)\n",
    "    affinity_propagation.fit(similarity_matrix)\n",
    "\n",
    "    labels = affinity_propagation.labels_\n",
    "    cluster_centers = affinity_propagation.cluster_centers_indices_\n",
    "\n",
    "    tagged_sentences = zip(sentences, labels)\n",
    "    clusters = {}\n",
    "\n",
    "    for sentence, cluster_id in tagged_sentences:\n",
    "        clusters.setdefault(sentences[cluster_centers[cluster_id]], []).append(sentence)\n",
    "\n",
    "    return clusters\n",
    "\n",
    "\n",
    "sentences = [\n",
    "    'He went to the bank',\n",
    "    'He is swimming by the river bank',\n",
    "    'He does not have enough money to withdraw from the bank',\n",
    "    'A bank of clouds was building to the northeast.',\n",
    "    'She sat on the river bank across from a series of wide, large steps leading up a hill to the park where the Arch stood, framed against a black sky.',\n",
    "    'Mr. Catlin at the bank says he is as honest as they come.',\n",
    "    'Seating herself on a low bank, she studied the souls.',\n",
    "    'How could a man with four million in the bank be in financial danger?',\n",
    "    'An overseas bank account in the company name contained a balance of one million dollars as startup funds for us to secure quarters for the enterprise.',\n",
    "    'ATMs replaced human bank tellers, so they are called \"Automated Teller Machines.\"',\n",
    "    'I guess he had some bucks at one time—back when he bought all this land—but his bank account never held a candle to mine.',\n",
    "    'She waded to the bank and picked up her shoes and stockings.',\n",
    "    'From the airport window, she watched a cloud bank build in the northwest.',\n",
    "    'Sex-starved bank tellers do not go subscribing to out of town newspapers,\" Fred grumbled in response.',\n",
    "    'I cleaned out our bank accounts and wrapped the withdrawal slips in the same pair of shorts and pinned it to his pillow with a steak knife and took off.',\n",
    "    'She is not stupid either, but I will bet she does starve if she did not have a bank account to tap.'\n",
    "]\n",
    "\n",
    "sentences = simpleFilterList(sentences)\n",
    "\n",
    "clusters = get_clusters(sentences)\n",
    "print()\n",
    "for cluster in clusters:\n",
    "    print(cluster, ':')\n",
    "    for element in clusters[cluster]:\n",
    "        print('  - ', element)"
   ]
  },
  {
   "cell_type": "code",
   "execution_count": null,
   "metadata": {},
   "outputs": [],
   "source": []
  }
 ],
 "metadata": {
  "kernelspec": {
   "display_name": "Python 3",
   "language": "python",
   "name": "python3"
  },
  "language_info": {
   "codemirror_mode": {
    "name": "ipython",
    "version": 3
   },
   "file_extension": ".py",
   "mimetype": "text/x-python",
   "name": "python",
   "nbconvert_exporter": "python",
   "pygments_lexer": "ipython3",
   "version": "3.6.7"
  }
 },
 "nbformat": 4,
 "nbformat_minor": 2
}
