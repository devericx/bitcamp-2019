{
 "cells": [
  {
   "cell_type": "code",
   "execution_count": 9,
   "metadata": {},
   "outputs": [
    {
     "name": "stdout",
     "output_type": "stream",
     "text": [
      "His card 8 heart\n"
     ]
    },
    {
     "data": {
      "text/plain": [
       "'a playing card in the major suit that has one or more red hearts on it'"
      ]
     },
     "execution_count": 9,
     "metadata": {},
     "output_type": "execute_result"
    }
   ],
   "source": [
    "import nltk\n",
    "from nltk.wsd import lesk\n",
    "from pywsd.similarity import max_similarity,similarity_by_path\n",
    "from pywsd.lesk import simple_lesk, adapted_lesk, cosine_lesk,original_lesk\n",
    "\n",
    "from nltk.tokenize import PunktSentenceTokenizer,sent_tokenize, word_tokenize\n",
    "from nltk.corpus import stopwords, wordnet\n",
    "from nltk.stem import WordNetLemmatizer, PorterStemmer\n",
    "from nltk.corpus import wordnet as wn\n",
    "import string\n",
    "\n",
    "import support.scrape as scrape\n",
    "\n",
    "\n",
    "stop_words = set(stopwords.words('english')) \n",
    "\n",
    "def simpleFilter(sentence):\n",
    "    filtered_sent = []\n",
    "    lemmatizer = WordNetLemmatizer()\n",
    "    stop_words = set(stopwords.words(\"english\"))\n",
    "    words = word_tokenize(sentence)\n",
    "\n",
    "    for w in words:\n",
    "        if w not in stop_words:\n",
    "            filtered_sent.append(lemmatizer.lemmatize(w))\n",
    "\n",
    "    return filtered_sent\n",
    "\n",
    "def listToString(inputSentList):\n",
    "    return ' '.join(inputSentList)\n",
    "\n",
    "def viewAllDefinitions(wordStr):\n",
    "    resList = []\n",
    "    for syn in wn.synsets(wordStr):\n",
    "        resList.append(syn.definition())\n",
    "    return resList\n",
    "\n",
    "def topRelevSent(targetWord):\n",
    "    return\n",
    "\n",
    "def simpleFilter(sentence):\n",
    "    filtered_sent = []\n",
    "    lemmatizer = WordNetLemmatizer()\n",
    "    stop_words = set(stopwords.words(\"english\"))\n",
    "    words = word_tokenize(sentence)\n",
    "\n",
    "    for w in words:\n",
    "        if w not in stop_words:\n",
    "            filtered_sent.append(lemmatizer.lemmatize(w))\n",
    "    return listToString(filtered_sent)\n",
    "\n",
    "def simpleFilterList(sentList):\n",
    "    resList = []\n",
    "    for sent in sentList:\n",
    "        sent = sent.translate(str.maketrans('', '', string.punctuation))\n",
    "        resList.append(simpleFilter(sent))\n",
    "    return resList\n",
    "\n",
    "\n",
    "\n",
    "\n",
    "\n",
    "sent = 'His card was the 8 of hearts'\n",
    "ambiguous = 'heart'\n",
    "\n",
    "sent = simpleFilter(sent)\n",
    "\n",
    "\n",
    "print(sent)\n",
    "cosine_lesk(sent,ambiguous).definition()\n",
    "\n",
    "\n",
    "\n",
    "# original_lesk seems to be better"
   ]
  },
  {
   "cell_type": "code",
   "execution_count": 10,
   "metadata": {},
   "outputs": [
    {
     "data": {
      "text/plain": [
       "['sloping land (especially the slope beside a body of water)',\n",
       " 'a financial institution that accepts deposits and channels the money into lending activities',\n",
       " 'a long ridge or pile',\n",
       " 'an arrangement of similar objects in a row or in tiers',\n",
       " 'a supply or stock held in reserve for future use (especially in emergencies)',\n",
       " 'the funds held by a gambling house or the dealer in some gambling games',\n",
       " 'a slope in the turn of a road or track; the outside is higher than the inside in order to reduce the effects of centrifugal force',\n",
       " 'a container (usually with a slot in the top) for keeping money at home',\n",
       " 'a building in which the business of banking transacted',\n",
       " 'a flight maneuver; aircraft tips laterally about its longitudinal axis (especially in turning)',\n",
       " 'tip laterally',\n",
       " 'enclose with a bank',\n",
       " 'do business with a bank or keep an account at a bank',\n",
       " 'act as the banker in a game or in gambling',\n",
       " 'be in the banking business',\n",
       " 'put into a bank account',\n",
       " 'cover with ashes so to control the rate of burning',\n",
       " 'have confidence or faith in']"
      ]
     },
     "execution_count": 10,
     "metadata": {},
     "output_type": "execute_result"
    }
   ],
   "source": [
    "\n",
    "        \n",
    "viewAllDefinitions('bank')     \n"
   ]
  },
  {
   "cell_type": "code",
   "execution_count": 11,
   "metadata": {},
   "outputs": [
    {
     "data": {
      "text/plain": [
       "'a financial institution that accepts deposits and channels the money into lending activities'"
      ]
     },
     "execution_count": 11,
     "metadata": {},
     "output_type": "execute_result"
    }
   ],
   "source": [
    "# nltk\n",
    "sent = 'I went to the bank to deposit my money'\n",
    "ambiguous = 'bank'\n",
    "original_lesk(sent,ambiguous).definition()"
   ]
  },
  {
   "cell_type": "code",
   "execution_count": 12,
   "metadata": {},
   "outputs": [
    {
     "data": {
      "text/plain": [
       "'feline mammal usually having thick soft fur and no ability to roar: domestic cats; wildcats'"
      ]
     },
     "execution_count": 12,
     "metadata": {},
     "output_type": "execute_result"
    }
   ],
   "source": [
    "original_lesk('my cat likes to eat mice', 'cat').definition()"
   ]
  },
  {
   "cell_type": "code",
   "execution_count": 13,
   "metadata": {},
   "outputs": [
    {
     "data": {
      "text/plain": [
       "'mean or intend to express or convey'"
      ]
     },
     "execution_count": 13,
     "metadata": {},
     "output_type": "execute_result"
    }
   ],
   "source": [
    "#sent = 'She is mean to me'\n",
    "#sent = 'She mean me'\n",
    "sent = 'What do you mean'\n",
    "\n",
    "original_lesk(sent, 'mean').definition()\n",
    "#simple_lesk(sent, 'mean').definition()"
   ]
  },
  {
   "cell_type": "code",
   "execution_count": 14,
   "metadata": {},
   "outputs": [
    {
     "data": {
      "text/plain": [
       "'break with established customs'"
      ]
     },
     "execution_count": 14,
     "metadata": {},
     "output_type": "execute_result"
    }
   ],
   "source": [
    "# 'run'  'advice' , 'bat', 'project'  'fine'  'consoil'  'roll'  ''\n",
    "sent = 'The rebel seized the opportunity to rebel'\n",
    "adapted_lesk(sent, 'rebel').definition()"
   ]
  },
  {
   "cell_type": "code",
   "execution_count": 25,
   "metadata": {},
   "outputs": [
    {
     "name": "stdout",
     "output_type": "stream",
     "text": [
      "------------------------\n",
      "Def:  have confidence or faith in\n",
      "         A bank of clouds was building to the northeast.\n",
      "         Mr. Catlin at the bank says he's as honest as they come.\n",
      "         Seating herself on a low bank, she studied the souls.\n",
      "         Within an hour, they were riding side-by-side down the south bank of the creek, searching for the blocked area.\n",
      "         ATMs replaced human bank tellers, so they are called \"Automated Teller Machines.\"\n",
      "         She waded to the bank and picked up her shoes and stockings.\n",
      "         When they paused on the bank, she could stand the pain no longer.\n",
      "         The bank was within reach.\n",
      "         She found herself walking along the bank, gaze on the souls that were moving.\n",
      "         I was like one who never casts a look behind, who hesitates before some Rubicon to be crossed, but having touched the farther bank sees no more the shore he has just left.\"\n",
      "         Several battalions of soldiers, in their shirt sleeves despite the cold wind, swarmed in these earthworks like a host of white ants; spadefuls of red clay were continually being thrown up from behind the bank by unseen hands.\n",
      "         She's not stupid either, but I'll bet she'd starve if she didn't have a bank account to tap.\n",
      "         \"Well, you'd better not play,\" Dolokhov added, and springing a new pack of cards said: \"Bank, gentlemen!\"\n",
      "         And that is how power is understood by the science of jurisprudence, that exchange bank of history which offers to exchange history's understanding of power for true gold.\n",
      "         These foliaceous heaps lie along the bank like the slag of a furnace, showing that Nature is \"in full blast\" within.\n",
      "         Early in the morning of the twelfth of June he came out of his tent, which was pitched that day on the steep left bank of the Niemen, and looked through a spyglass at the streams of his troops pouring out of the Vilkavisski forest and flowing over the three bridges thrown across the river.\n",
      "         They tried to make their way forward to the opposite bank and, though there was a ford one third of a mile away, were proud that they were swimming and drowning in this river under the eyes of the man who sat on the log and was not even looking at what they were doing.\n",
      "         Finally we spotted a large chain store and upon entering, detected a bank of telephones near the rest rooms.\n",
      "         They can take you to the opposite bank, but they're the first to say not to do it.\n",
      "         The men looked at him and pressed to the bank, hesitating to step onto the ice.\n",
      "         The majority struggled back to the bank from which they had started.\n",
      "         Another bank i ioo fathoms from the surface runs south from the east end of Crete, separating the Pola Deep from the depths of the Levant basin, in which a depth of 1960 fathoms was recorded near Makri on the coast of Asia Minor.\n",
      "         Dean accompanied Fred as far as a bank of pay phones.\n",
      "         Everywhere on the bank, on the dam, and in the pond, there was healthy, white, muscular flesh.\n",
      "------------------------\n",
      "Def:  put into a bank account\n",
      "         Her bank account was rarely over two hundred.\n",
      "         An overseas bank account in the company name contained a balance of one million dollars as startup funds for us to secure quarters for the enterprise.\n",
      "         After breakfast, she closed her account at the bank and turned in her resignation.\n",
      "         About 80,000 went in payments on all the estates to the Land Bank, about 30,000 went for the upkeep of the estate near Moscow, the town house, and the allowance to the three princesses; about 15,000 was given in pensions and the same amount for asylums; 150,000 alimony was sent to the countess; about 70,000 went for interest on debts.\n",
      "         In less than a week they would be married, but somehow it seemed a violation of his bank account.\n",
      "         I cleaned out our bank accounts and wrapped the withdrawal slips in the same pair of shorts and pinned it to his pillow with a steak knife and took off.\n",
      "         Dean's feelings were mixed about Pumpkin's visit but on the plus side, there were a few more bucks in Bird Song's bank account.\n",
      "         Bird Song, while providing a simple living for them, was never going to bring a fortune to their bank account.\n",
      "         Climbing into the car he purchased for her, she headed out with the new bank account he had given her to do some guilt free shopping.\n",
      "------------------------\n",
      "Def:  sloping land (especially the slope beside a body of water)\n",
      "         She sat on the river bank across from a series of wide, large steps leading up a hill to the park where the Arch stood, framed against a black sky.\n",
      "         She stretched and pulled herself onto the bank, shaking hard with cold.\n",
      "         Cushing himself swam to the swamps on the river bank, and after wading among them for hours reached a Federal picket boat.\n",
      "         From the airport window, she watched a cloud bank build in the northwest.\n",
      "         It is thrown across the gorge at a height of two hundred and fifty-eight feet above the water and is supported on each bank by towers of solid rock, which are eight hundred feet apart.\n",
      "         \"Did you find out who it belonged to, Landon?\" he asked as he emerged onto the bank beside the eerily glowing lake.\n",
      "         Spain, in the province of Leon; situated near the right bank of the river Tuerto, and at the junction of the Salamanca-Corunna and Leon-Astorga railways.\n",
      "         Water dripped from above and tiny snowballs cascaded down the slope, bouncing off his un-helmeted head and under his collar as his line scoured the bank of snow above him.\n",
      "         The battle of the Atbara, fought near Nakheila, a place on the north bank of the river about 30 m.\n",
      "         Her body was found on the Iowa bank of the Mississippi ten days later.\n",
      "         On the twenty-eighth of October Kutuzov with his army crossed to the left bank of the Danube and took up a position for the first time with the river between himself and the main body of the French.\n",
      "------------------------\n",
      "Def:  a financial institution that accepts deposits and channels the money into lending activities\n",
      "         How could a man with four million in the bank be in financial danger?\n",
      "         I guess he had some bucks at one time—back when he bought all this land—but his bank account never held a candle to mine.\n",
      "         If you would know the history of these homesteads, inquire at the bank where they are mortgaged.\n",
      "         Mortgages for all of us were quickly processed through a private bank owned by one of Merrill Cooms' entities.\n",
      "         By the time he neared the woman, she'd crossed the intersection where the water fight would be held later, and was passing the bank in the heart of town.\n",
      "         But the old man, finally, with much reluctance, agreed to re-figure the amount stolen when Dean began to ask how fre­quently deposits were made and offered to check bank records.\n",
      "------------------------\n",
      "Def:  do business with a bank or keep an account at a bank\n",
      "         The town of Barwani is situated near the left bank of the Nerbudda.\n",
      "         \"Sex-starved bank tellers don't go subscribing to out of town newspapers,\" Fred grumbled in response.\n",
      "         A short distance below the Felu Falls is the town of Kayes on the left bank of the river.\n",
      "------------------------\n",
      "Def:  a flight maneuver; aircraft tips laterally about its longitudinal axis (especially in turning)\n",
      "         Deidre emerged into the living room and turned around once completely, not expecting the views of the city from the bank of windows along one wall.\n",
      "         Dean turned him around as he was swinging, knocking Shipton flying into a snow bank with a right hand that started at ground level.\n",
      "         Where the hazel bank is steepest, Where the shadow falls the deepest, Where the clustering nuts fall free, That's the way for Billy and me.\n",
      "         We waded so gently and reverently, or we pulled together so smoothly, that the fishes of thought were not scared from the stream, nor feared any angler on the bank, but came and went grandly, like the clouds which float through the western sky, and the mother-o'-pearl flocks which sometimes form and dissolve there.\n",
      "------------------------\n",
      "Def:  the funds held by a gambling house or the dealer in some gambling games\n",
      "         Cynthia smiled, remembering the early-days' confusion of opening the bed and breakfast, two newlyweds and one old man, operating on piggy bank finances and not an ounce of experience among them.\n",
      "         But it's also an option for locals, when they want the kind of reliably low-key and comfortable environment provided by such a brand, without having to break the bank.\n",
      "         The poor guy's probably some henpecked bank teller who rented this place trying to shack up with a honey and struck out.\n",
      "         On the thirtieth he attacked Mortier's division, which was on the left bank, and broke it up.\n",
      "         Climbing the other bank, she headed across the field to the old house.\n",
      "------------------------\n",
      "Def:  a container (usually with a slot in the top) for keeping money at home\n",
      "         He walked up and down the river bank, leading his horse behind him; but he kept his eyes turned always toward the dim, dark spot which he knew was the old North Church.\n",
      "         The money she earned from each of the trips across the desert was devoted entirely to paying off the loan, but the money she earned working at the bank was set aside to purchase supplies until the ranch started paying for itself.\n",
      "         The trio was far more comfortable now, six months later, with enough money in the bank to keep the wolves away, and expectations, if not of prosperity, of at least a reasonably comfortable coming season.\n",
      "         I observed that the vitals of the village were the grocery, the bar-room, the post-office, and the bank; and, as a necessary part of the machinery, they kept a bell, a big gun, and a fire-engine, at convenient places; and the houses were so arranged as to make the most of mankind, in lanes and fronting one another, so that every traveller had to run the gauntlet, and every man, woman, and child might get a lick at him.\n",
      "         You need an identity—papers in your name—charge accounts, a bank where you can feed in a little money at a time, a driver's license, all that stuff.\n",
      "         The western Mediterranean is cut off by a bank crossing the narrow strait between Sicily and Cape Bon, usually known as the Adventure Bank, on which the depth is nowhere 200 fathoms. The mean depth of the western basin is estimated at 881 fathoms, and the deepest sounding recorded is 2040 fathoms. In the eastern Mediterranean the mean depth is nearly the same as in the western basin.\n",
      "         No one makes it onto the bank with the security the feds installed to keep us Easterners from crossing, he said with a shake of his head.\n",
      "         The western Mediterranean is cut off by a bank crossing the narrow strait between Sicily and Cape Bon, usually known as the Adventure Bank, on which the depth is nowhere 200 fathoms. The mean depth of the western basin is estimated at 881 fathoms, and the deepest sounding recorded is 2040 fathoms. In the eastern Mediterranean the mean depth is nearly the same as in the western basin.\n",
      "         In fact, I'd confine myself to a bank vault or a guru's mountain top sanctuary.\n",
      "------------------------\n",
      "Def:  a slope in the turn of a road or track; the outside is higher than the inside in order to reduce the effects of centrifugal force\n",
      "         With one last look at the river, she turned away and climbed the bank clumsily before heading towards the road leading from the bridge to her home.\n",
      "         \"Shipton!\" he continued to yell as he paid out more of the line, moving down the short but near-vertical slope of snow-covered rock, his eyes fixed above on the receding bank of trees and safety.\n",
      "         A bank of clouds tumbled down the slope to the left of him, bathing the summit in cold dampness.\n",
      "         The whole bank, which is from twenty to forty feet high, is sometimes overlaid with a mass of this kind of foliage, or sandy rupture, for a quarter of a mile on one or both sides, the produce of one spring day.\n",
      "         Deidre's gaze was caught by the bank of windows lining one side of the penthouse.\n",
      "------------------------\n",
      "Def:  cover with ashes so to control the rate of burning\n",
      "         He rose and crossed to the fireplace and began to bank the fire as the hall clock struck eleven times.\n",
      "------------------------\n",
      "Def:  a long ridge or pile\n",
      "         They moved slowly to the bank on which she stood, bumped into the dirt wall and floated to nestle into piles at the bottom.\n",
      "         Only a little earth crumbled from the bank under the horse's hind hoofs.\n",
      "------------------------\n",
      "Def:  a building in which the business of banking transacted\n",
      "         In addition to the storage buildings, he owns an insurance agency, a bank and a bunch of commercial real estate.\n",
      "         Carmen shook her head, glancing at a bank of building clouds.\n",
      "------------------------\n",
      "Def:  act as the banker in a game or in gambling\n",
      "         What's more, the Internet can be a fact checker, post office, Rolodex, Yellow Pages, White Pages, game board, garage sale, university, movie theater, jukebox, matchmaking service, travel agent, photo album, bank, support group ...\n"
     ]
    }
   ],
   "source": [
    "def seperateByDef(targetWord):\n",
    "    # Returns a dictionary sorted by defintion\n",
    "    sentList = scrape.scrape(targetWord)\n",
    "    \n",
    "    dictDef = {}\n",
    "    for i,sent in enumerate(sentList):\n",
    "        \n",
    "        #defineSent = cosine_lesk(sent,targetWord).definition()\n",
    "        defineSent = adapted_lesk(sent,targetWord).definition()        \n",
    "        \n",
    "        if defineSent not in dictDef:\n",
    "            dictDef[defineSent] = [sent]\n",
    "        else:\n",
    "            dictDef[defineSent].append(sent)\n",
    "    return dictDef\n",
    "\n",
    "\n",
    "dictDef = seperateByDef('bank')\n",
    "\n",
    "\n",
    "for key in dictDef.keys():\n",
    "    print('-------------------------------------------------------')\n",
    "    print('Def: ', key)\n",
    "    for value in dictDef[key]:\n",
    "        print('        ', value)\n"
   ]
  },
  {
   "cell_type": "code",
   "execution_count": null,
   "metadata": {},
   "outputs": [],
   "source": []
  },
  {
   "cell_type": "code",
   "execution_count": null,
   "metadata": {},
   "outputs": [],
   "source": []
  },
  {
   "cell_type": "code",
   "execution_count": null,
   "metadata": {},
   "outputs": [],
   "source": []
  },
  {
   "cell_type": "code",
   "execution_count": null,
   "metadata": {},
   "outputs": [],
   "source": []
  },
  {
   "cell_type": "code",
   "execution_count": null,
   "metadata": {},
   "outputs": [],
   "source": []
  },
  {
   "cell_type": "code",
   "execution_count": null,
   "metadata": {},
   "outputs": [],
   "source": []
  },
  {
   "cell_type": "code",
   "execution_count": null,
   "metadata": {},
   "outputs": [],
   "source": []
  },
  {
   "cell_type": "code",
   "execution_count": 18,
   "metadata": {},
   "outputs": [
    {
     "name": "stdout",
     "output_type": "stream",
     "text": [
      "\n",
      "A bank cloud building northeast :\n",
      "  -  A bank cloud building northeast\n",
      "  -  From airport window watched cloud bank build northwest\n",
      "  -  A bank cloud tumbled slope left bathing summit cold dampness\n",
      "  -  In addition storage building owns insurance agency bank bunch commercial real estate\n",
      "  -  Carmen shook head glancing bank building cloud\n",
      "  -  We waded gently reverently pulled together smoothly fish thought scared stream feared angler bank came went grandly like cloud float western sky motheropearl flock sometimes form dissolve\n",
      "Her bank account rarely two hundred :\n",
      "  -  Her bank account rarely two hundred\n",
      "  -  Cynthia smiled remembering earlydays confusion opening bed breakfast two newlywed one old man operating piggy bank finance ounce experience among\n",
      "  -  It thrown across gorge height two hundred fiftyeight foot water supported bank tower solid rock eight hundred foot apart\n",
      "  -  After breakfast closed account bank turned resignation\n",
      "  -  I cleaned bank account wrapped withdrawal slip pair short pinned pillow steak knife took\n",
      "  -  Shes stupid either Ill bet shed starve didnt bank account tap\n",
      "  -  Her body found Iowa bank Mississippi ten day later\n",
      "With one last look river turned away climbed bank clumsily heading towards road leading bridge home :\n",
      "  -  She sat river bank across series wide large step leading hill park Arch stood framed black sky\n",
      "  -  He walked river bank leading horse behind kept eye turned always toward dim dark spot knew old North Church\n",
      "  -  With one last look river turned away climbed bank clumsily heading towards road leading bridge home\n",
      "  -  Early morning twelfth June came tent pitched day steep left bank Niemen looked spyglass stream troop pouring Vilkavisski forest flowing three bridge thrown across river\n",
      "  -  They tried make way forward opposite bank though ford one third mile away proud swimming drowning river eye man sat log even looking\n",
      "  -  Climbing car purchased headed new bank account given guilt free shopping\n",
      "  -  Climbing bank headed across field old house\n",
      "Mr Catlin bank say he honest come :\n",
      "  -  Mr Catlin bank say he honest come\n",
      "  -  He rose crossed fireplace began bank fire hall clock struck eleven time\n",
      "  -  They take opposite bank theyre first say\n",
      "She found walking along bank gaze soul moving :\n",
      "  -  Seating low bank studied soul\n",
      "  -  She waded bank picked shoe stocking\n",
      "  -  She found walking along bank gaze soul moving\n",
      "  -  They moved slowly bank stood bumped dirt wall floated nestle pile bottom\n",
      "  -  Shipton continued yell paid line moving short nearvertical slope snowcovered rock eye fixed receding bank tree safety\n",
      "The bank within reach :\n",
      "  -  Within hour riding sidebyside south bank creek searching blocked area\n",
      "  -  Cushing swam swamp river bank wading among hour reached Federal picket boat\n",
      "  -  The bank within reach\n",
      "  -  These foliaceous heap lie along bank like slag furnace showing Nature full blast within\n",
      "  -  The majority struggled back bank started\n",
      "When paused bank could stand pain longer :\n",
      "  -  How could man four million bank financial danger\n",
      "  -  When paused bank could stand pain longer\n",
      "No one make onto bank security fed installed keep u Easterners crossing said shake head :\n",
      "  -  She stretched pulled onto bank shaking hard cold\n",
      "  -  An overseas bank account company name contained balance one million dollar startup fund u secure quarter enterprise\n",
      "  -  I observed vitals village grocery barroom postoffice bank necessary part machinery kept bell big gun fireengine convenient place house arranged make mankind lane fronting one another every traveller run gauntlet every man woman child might get lick\n",
      "  -  Did find belonged Landon asked emerged onto bank beside eerily glowing lake\n",
      "  -  Well youd better play Dolokhov added springing new pack card said Bank gentleman\n",
      "  -  No one make onto bank security fed installed keep u Easterners crossing said shake head\n",
      "  -  Mortgages u quickly processed private bank owned one Merrill Cooms entity\n",
      "The town Barwani situated near left bank Nerbudda :\n",
      "  -  The town Barwani situated near left bank Nerbudda\n",
      "  -  About 80000 went payment estate Land Bank 30000 went upkeep estate near Moscow town house allowance three princess 15000 given pension amount asylum 150000 alimony sent countess 70000 went interest debt\n",
      "  -  Spain province Leon situated near right bank river Tuerto junction SalamancaCorunna LeonAstorga railway\n",
      "  -  A short distance Felu Falls town Kayes left bank river\n",
      "  -  The battle Atbara fought near Nakheila place north bank river 30\n",
      "  -  On thirtieth attacked Mortiers division left bank broke\n",
      "  -  Finally spotted large chain store upon entering detected bank telephone near rest room\n",
      "  -  By time neared woman shed crossed intersection water fight would held later passing bank heart town\n",
      "ATMs replaced human bank teller called Automated Teller Machines :\n",
      "  -  ATMs replaced human bank teller called Automated Teller Machines\n",
      "  -  Sexstarved bank teller dont go subscribing town newspaper Fred grumbled response\n",
      "  -  The poor guy probably henpecked bank teller rented place trying shack honey struck\n",
      "I like one never cast look behind hesitates Rubicon crossed touched farther bank see shore left :\n",
      "  -  I guess buck one time—back bought land—but bank account never held candle mine\n",
      "  -  I like one never cast look behind hesitates Rubicon crossed touched farther bank see shore left\n",
      "  -  Several battalion soldier shirt sleeve despite cold wind swarmed earthwork like host white ant spadeful red clay continually thrown behind bank unseen hand\n",
      "  -  The men looked pressed bank hesitating step onto ice\n",
      "  -  On twentyeighth October Kutuzov army crossed left bank Danube took position first time river main body French\n",
      "Deidres gaze caught bank window lining one side penthouse :\n",
      "  -  Deidre emerged living room turned around completely expecting view city bank window along one wall\n",
      "  -  Water dripped tiny snowball cascaded slope bouncing unhelmeted head collar line scoured bank snow\n",
      "  -  The whole bank twenty forty foot high sometimes overlaid mass kind foliage sandy rupture quarter mile one side produce one spring day\n",
      "  -  Deidres gaze caught bank window lining one side penthouse\n",
      "If would know history homestead inquire bank mortgaged :\n",
      "  -  If would know history homestead inquire bank mortgaged\n",
      "  -  In le week would married somehow seemed violation bank account\n",
      "  -  And power understood science jurisprudence exchange bank history offer exchange history understanding power true gold\n",
      "Dean accompanied Fred far bank pay phone :\n",
      "  -  The money earned trip across desert devoted entirely paying loan money earned working bank set aside purchase supply ranch started paying\n",
      "  -  The trio far comfortable six month later enough money bank keep wolf away expectation prosperity least reasonably comfortable coming season\n",
      "  -  Dean turned around swinging knocking Shipton flying snow bank right hand started ground level\n",
      "  -  But old man finally much reluctance agreed refigure amount stolen Dean began ask fre­quently deposit made offered check bank record\n",
      "  -  Dean accompanied Fred far bank pay phone\n",
      "Bird Song providing simple living never going bring fortune bank account :\n",
      "  -  But also option local want kind reliably lowkey comfortable environment provided brand without break bank\n",
      "  -  Deans feeling mixed Pumpkins visit plus side buck Bird Songs bank account\n",
      "  -  Bird Song providing simple living never going bring fortune bank account\n",
      "You need identity—papers name—charge account bank feed little money time driver license stuff :\n",
      "  -  You need identity—papers name—charge account bank feed little money time driver license stuff\n",
      "  -  Only little earth crumbled bank horse hind hoof\n",
      "The western Mediterranean cut bank crossing narrow strait Sicily Cape Bon usually known Adventure Bank depth nowhere 200 fathom The mean depth western basin estimated 881 fathom deepest sounding recorded 2040 fathom In eastern Mediterranean mean depth nearly western basin :\n",
      "  -  The western Mediterranean cut bank crossing narrow strait Sicily Cape Bon usually known Adventure Bank depth nowhere 200 fathom The mean depth western basin estimated 881 fathom deepest sounding recorded 2040 fathom In eastern Mediterranean mean depth nearly western basin\n",
      "  -  The western Mediterranean cut bank crossing narrow strait Sicily Cape Bon usually known Adventure Bank depth nowhere 200 fathom The mean depth western basin estimated 881 fathom deepest sounding recorded 2040 fathom In eastern Mediterranean mean depth nearly western basin\n",
      "  -  Another bank ioo fathom surface run south east end Crete separating Pola Deep depth Levant basin depth 1960 fathom recorded near Makri coast Asia Minor\n",
      "  -  Where hazel bank steepest Where shadow fall deepest Where clustering nut fall free Thats way Billy\n",
      "Whats Internet fact checker post office Rolodex Yellow Pages White Pages game board garage sale university movie theater jukebox matchmaking service travel agent photo album bank support group :\n",
      "  -  Whats Internet fact checker post office Rolodex Yellow Pages White Pages game board garage sale university movie theater jukebox matchmaking service travel agent photo album bank support group\n",
      "  -  Everywhere bank dam pond healthy white muscular flesh\n",
      "  -  In fact Id confine bank vault guru mountain top sanctuary\n"
     ]
    }
   ],
   "source": [
    "import nltk, string\n",
    "from sklearn.feature_extraction.text import TfidfVectorizer\n",
    "from sklearn.cluster import AffinityPropagation\n",
    "from nltk.stem.snowball import SnowballStemmer\n",
    "\n",
    "punctuation_map = dict((ord(char), None) for char in string.punctuation)\n",
    "stemmer = SnowballStemmer(\"english\")\n",
    "\n",
    "def stem_tokens(tokens):\n",
    "    return [stemmer.stem(item) for item in tokens]\n",
    "\n",
    "def normalize(text):\n",
    "    return stem_tokens(nltk.word_tokenize(text.lower().translate(punctuation_map)))\n",
    "\n",
    "vectorizer = TfidfVectorizer(tokenizer=normalize)\n",
    "\n",
    "def get_clusters(sentences):\n",
    "    tf_idf_matrix = vectorizer.fit_transform(sentences)\n",
    "    similarity_matrix = (tf_idf_matrix * tf_idf_matrix.T).A\n",
    "    affinity_propagation = AffinityPropagation(affinity=\"precomputed\", damping=0.5)\n",
    "    affinity_propagation.fit(similarity_matrix)\n",
    "\n",
    "    labels = affinity_propagation.labels_\n",
    "    cluster_centers = affinity_propagation.cluster_centers_indices_\n",
    "\n",
    "    tagged_sentences = zip(sentences, labels)\n",
    "    clusters = {}\n",
    "\n",
    "    for sentence, cluster_id in tagged_sentences:\n",
    "        clusters.setdefault(sentences[cluster_centers[cluster_id]], []).append(sentence)\n",
    "\n",
    "    return clusters\n",
    "\n",
    "sentences = scrape.scrape('bank')\n",
    "\n",
    "\n",
    "sentences = simpleFilterList(sentences)\n",
    "\n",
    "clusters = get_clusters(sentences)\n",
    "print()\n",
    "for cluster in clusters:\n",
    "    print(cluster, ':')\n",
    "    for element in clusters[cluster]:\n",
    "        print('  - ', element)"
   ]
  },
  {
   "cell_type": "code",
   "execution_count": null,
   "metadata": {},
   "outputs": [],
   "source": []
  }
 ],
 "metadata": {
  "kernelspec": {
   "display_name": "Python 3",
   "language": "python",
   "name": "python3"
  },
  "language_info": {
   "codemirror_mode": {
    "name": "ipython",
    "version": 3
   },
   "file_extension": ".py",
   "mimetype": "text/x-python",
   "name": "python",
   "nbconvert_exporter": "python",
   "pygments_lexer": "ipython3",
   "version": "3.6.7"
  }
 },
 "nbformat": 4,
 "nbformat_minor": 2
}
